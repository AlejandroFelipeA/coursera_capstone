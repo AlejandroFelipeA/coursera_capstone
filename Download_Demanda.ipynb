{
  "nbformat": 4,
  "nbformat_minor": 0,
  "metadata": {
    "colab": {
      "name": "Download Demanda.ipynb",
      "provenance": [],
      "collapsed_sections": [],
      "toc_visible": true,
      "mount_file_id": "1I-ZKWrkw__PsU4mFyvTlLXHP3Af0rxx_",
      "authorship_tag": "ABX9TyN0nlynpyOOpP0qJdJF8Fmj",
      "include_colab_link": true
    },
    "kernelspec": {
      "name": "python3",
      "display_name": "Python 3"
    },
    "language_info": {
      "name": "python"
    }
  },
  "cells": [
    {
      "cell_type": "markdown",
      "metadata": {
        "id": "view-in-github",
        "colab_type": "text"
      },
      "source": [
        "<a href=\"https://colab.research.google.com/github/AlejandroFelipeA/coursera_capstone/blob/master/Download_Demanda.ipynb\" target=\"_parent\"><img src=\"https://colab.research.google.com/assets/colab-badge.svg\" alt=\"Open In Colab\"/></a>"
      ]
    },
    {
      "cell_type": "code",
      "source": [
        "import os\n",
        "import pandas as pd\n",
        "import numpy as np\n",
        "import ast\n",
        "import time\n",
        "from datetime import datetime\n",
        "from datetime import date\n",
        "from datetime import timedelta\n",
        "import locale\n",
        "locale.setlocale(locale.LC_ALL, '')"
      ],
      "metadata": {
        "colab": {
          "base_uri": "https://localhost:8080/",
          "height": 35
        },
        "id": "Rm4U4OFjrou6",
        "outputId": "63b27895-e398-4af9-a115-efd0549cab2e"
      },
      "execution_count": null,
      "outputs": [
        {
          "output_type": "execute_result",
          "data": {
            "application/vnd.google.colaboratory.intrinsic+json": {
              "type": "string"
            },
            "text/plain": [
              "'en_US.UTF-8'"
            ]
          },
          "metadata": {},
          "execution_count": 1
        }
      ]
    },
    {
      "cell_type": "code",
      "source": [
        ""
      ],
      "metadata": {
        "id": "dMUSXXcliGGx"
      },
      "execution_count": null,
      "outputs": []
    },
    {
      "cell_type": "markdown",
      "source": [
        "# Download Demanda"
      ],
      "metadata": {
        "id": "In1TXYyaiGbI"
      }
    },
    {
      "cell_type": "code",
      "metadata": {
        "colab": {
          "base_uri": "https://localhost:8080/"
        },
        "id": "UAOTR3daUeoY",
        "outputId": "5c661658-bef6-4def-b7fb-ede8c53526df"
      },
      "source": [
        "!pip install selenium\n",
        "!apt-get update # to update ubuntu to correctly run apt install\n",
        "!apt install chromium-chromedriver\n",
        "!cp /usr/lib/chromium-browser/chromedriver /usr/bin\n",
        "import sys\n",
        "sys.path.insert(0,'/usr/lib/chromium-browser/chromedriver')\n",
        "from selenium import webdriver\n",
        "chrome_options = webdriver.ChromeOptions()\n",
        "chrome_options.add_argument('--headless')\n",
        "chrome_options.add_argument('--no-sandbox')\n",
        "chrome_options.add_argument('--disable-dev-shm-usage')\n",
        "driver = webdriver.Chrome('chromedriver',chrome_options=chrome_options)"
      ],
      "execution_count": null,
      "outputs": [
        {
          "output_type": "stream",
          "name": "stdout",
          "text": [
            "Collecting selenium\n",
            "  Downloading selenium-4.1.0-py3-none-any.whl (958 kB)\n",
            "\u001b[K     |████████████████████████████████| 958 kB 5.1 MB/s \n",
            "\u001b[?25hCollecting trio-websocket~=0.9\n",
            "  Downloading trio_websocket-0.9.2-py3-none-any.whl (16 kB)\n",
            "Collecting urllib3[secure]~=1.26\n",
            "  Downloading urllib3-1.26.7-py2.py3-none-any.whl (138 kB)\n",
            "\u001b[K     |████████████████████████████████| 138 kB 65.8 MB/s \n",
            "\u001b[?25hCollecting trio~=0.17\n",
            "  Downloading trio-0.19.0-py3-none-any.whl (356 kB)\n",
            "\u001b[K     |████████████████████████████████| 356 kB 56.5 MB/s \n",
            "\u001b[?25hRequirement already satisfied: sortedcontainers in /usr/local/lib/python3.7/dist-packages (from trio~=0.17->selenium) (2.4.0)\n",
            "Requirement already satisfied: idna in /usr/local/lib/python3.7/dist-packages (from trio~=0.17->selenium) (2.10)\n",
            "Requirement already satisfied: attrs>=19.2.0 in /usr/local/lib/python3.7/dist-packages (from trio~=0.17->selenium) (21.2.0)\n",
            "Collecting outcome\n",
            "  Downloading outcome-1.1.0-py2.py3-none-any.whl (9.7 kB)\n",
            "Collecting async-generator>=1.9\n",
            "  Downloading async_generator-1.10-py3-none-any.whl (18 kB)\n",
            "Collecting sniffio\n",
            "  Downloading sniffio-1.2.0-py3-none-any.whl (10 kB)\n",
            "Collecting wsproto>=0.14\n",
            "  Downloading wsproto-1.0.0-py3-none-any.whl (24 kB)\n",
            "Requirement already satisfied: certifi in /usr/local/lib/python3.7/dist-packages (from urllib3[secure]~=1.26->selenium) (2021.10.8)\n",
            "Collecting pyOpenSSL>=0.14\n",
            "  Downloading pyOpenSSL-21.0.0-py2.py3-none-any.whl (55 kB)\n",
            "\u001b[K     |████████████████████████████████| 55 kB 2.9 MB/s \n",
            "\u001b[?25hCollecting cryptography>=1.3.4\n",
            "  Downloading cryptography-36.0.1-cp36-abi3-manylinux_2_24_x86_64.whl (3.6 MB)\n",
            "\u001b[K     |████████████████████████████████| 3.6 MB 56.0 MB/s \n",
            "\u001b[?25hRequirement already satisfied: cffi>=1.12 in /usr/local/lib/python3.7/dist-packages (from cryptography>=1.3.4->urllib3[secure]~=1.26->selenium) (1.15.0)\n",
            "Requirement already satisfied: pycparser in /usr/local/lib/python3.7/dist-packages (from cffi>=1.12->cryptography>=1.3.4->urllib3[secure]~=1.26->selenium) (2.21)\n",
            "Requirement already satisfied: six>=1.5.2 in /usr/local/lib/python3.7/dist-packages (from pyOpenSSL>=0.14->urllib3[secure]~=1.26->selenium) (1.15.0)\n",
            "Collecting h11<1,>=0.9.0\n",
            "  Downloading h11-0.12.0-py3-none-any.whl (54 kB)\n",
            "\u001b[K     |████████████████████████████████| 54 kB 2.7 MB/s \n",
            "\u001b[?25hInstalling collected packages: sniffio, outcome, h11, cryptography, async-generator, wsproto, urllib3, trio, pyOpenSSL, trio-websocket, selenium\n",
            "  Attempting uninstall: urllib3\n",
            "    Found existing installation: urllib3 1.24.3\n",
            "    Uninstalling urllib3-1.24.3:\n",
            "      Successfully uninstalled urllib3-1.24.3\n",
            "\u001b[31mERROR: pip's dependency resolver does not currently take into account all the packages that are installed. This behaviour is the source of the following dependency conflicts.\n",
            "requests 2.23.0 requires urllib3!=1.25.0,!=1.25.1,<1.26,>=1.21.1, but you have urllib3 1.26.7 which is incompatible.\n",
            "datascience 0.10.6 requires folium==0.2.1, but you have folium 0.8.3 which is incompatible.\u001b[0m\n",
            "Successfully installed async-generator-1.10 cryptography-36.0.1 h11-0.12.0 outcome-1.1.0 pyOpenSSL-21.0.0 selenium-4.1.0 sniffio-1.2.0 trio-0.19.0 trio-websocket-0.9.2 urllib3-1.26.7 wsproto-1.0.0\n",
            "Get:1 http://security.ubuntu.com/ubuntu bionic-security InRelease [88.7 kB]\n",
            "Ign:2 https://developer.download.nvidia.com/compute/cuda/repos/ubuntu1804/x86_64  InRelease\n",
            "Get:3 https://cloud.r-project.org/bin/linux/ubuntu bionic-cran40/ InRelease [3,626 B]\n",
            "Get:4 http://ppa.launchpad.net/c2d4u.team/c2d4u4.0+/ubuntu bionic InRelease [15.9 kB]\n",
            "Hit:5 http://archive.ubuntu.com/ubuntu bionic InRelease\n",
            "Ign:6 https://developer.download.nvidia.com/compute/machine-learning/repos/ubuntu1804/x86_64  InRelease\n",
            "Hit:7 https://developer.download.nvidia.com/compute/cuda/repos/ubuntu1804/x86_64  Release\n",
            "Hit:8 https://developer.download.nvidia.com/compute/machine-learning/repos/ubuntu1804/x86_64  Release\n",
            "Get:9 http://archive.ubuntu.com/ubuntu bionic-updates InRelease [88.7 kB]\n",
            "Hit:10 http://ppa.launchpad.net/cran/libgit2/ubuntu bionic InRelease\n",
            "Get:11 http://security.ubuntu.com/ubuntu bionic-security/universe amd64 Packages [1,459 kB]\n",
            "Hit:12 http://archive.ubuntu.com/ubuntu bionic-backports InRelease\n",
            "Get:13 http://ppa.launchpad.net/deadsnakes/ppa/ubuntu bionic InRelease [15.9 kB]\n",
            "Get:14 http://security.ubuntu.com/ubuntu bionic-security/multiverse amd64 Packages [26.8 kB]\n",
            "Get:15 http://security.ubuntu.com/ubuntu bionic-security/main amd64 Packages [2,489 kB]\n",
            "Get:16 http://security.ubuntu.com/ubuntu bionic-security/restricted amd64 Packages [716 kB]\n",
            "Get:17 http://ppa.launchpad.net/graphics-drivers/ppa/ubuntu bionic InRelease [21.3 kB]\n",
            "Get:20 http://ppa.launchpad.net/c2d4u.team/c2d4u4.0+/ubuntu bionic/main Sources [1,822 kB]\n",
            "Get:21 http://archive.ubuntu.com/ubuntu bionic-updates/multiverse amd64 Packages [34.5 kB]\n",
            "Get:22 http://archive.ubuntu.com/ubuntu bionic-updates/universe amd64 Packages [2,238 kB]\n",
            "Get:23 http://ppa.launchpad.net/c2d4u.team/c2d4u4.0+/ubuntu bionic/main amd64 Packages [934 kB]\n",
            "Get:24 http://archive.ubuntu.com/ubuntu bionic-updates/main amd64 Packages [2,927 kB]\n",
            "Get:25 http://archive.ubuntu.com/ubuntu bionic-updates/restricted amd64 Packages [749 kB]\n",
            "Get:26 http://ppa.launchpad.net/deadsnakes/ppa/ubuntu bionic/main amd64 Packages [45.3 kB]\n",
            "Get:27 http://ppa.launchpad.net/graphics-drivers/ppa/ubuntu bionic/main amd64 Packages [44.7 kB]\n",
            "Fetched 13.7 MB in 4s (3,238 kB/s)\n",
            "Reading package lists... Done\n",
            "Reading package lists... Done\n",
            "Building dependency tree       \n",
            "Reading state information... Done\n",
            "The following additional packages will be installed:\n",
            "  chromium-browser chromium-browser-l10n chromium-codecs-ffmpeg-extra\n",
            "Suggested packages:\n",
            "  webaccounts-chromium-extension unity-chromium-extension\n",
            "The following NEW packages will be installed:\n",
            "  chromium-browser chromium-browser-l10n chromium-chromedriver\n",
            "  chromium-codecs-ffmpeg-extra\n",
            "0 upgraded, 4 newly installed, 0 to remove and 59 not upgraded.\n",
            "Need to get 94.0 MB of archives.\n",
            "After this operation, 324 MB of additional disk space will be used.\n",
            "Get:1 http://archive.ubuntu.com/ubuntu bionic-updates/universe amd64 chromium-codecs-ffmpeg-extra amd64 95.0.4638.69-0ubuntu0.18.04.1 [1,135 kB]\n",
            "Get:2 http://archive.ubuntu.com/ubuntu bionic-updates/universe amd64 chromium-browser amd64 95.0.4638.69-0ubuntu0.18.04.1 [83.6 MB]\n",
            "Get:3 http://archive.ubuntu.com/ubuntu bionic-updates/universe amd64 chromium-browser-l10n all 95.0.4638.69-0ubuntu0.18.04.1 [4,249 kB]\n",
            "Get:4 http://archive.ubuntu.com/ubuntu bionic-updates/universe amd64 chromium-chromedriver amd64 95.0.4638.69-0ubuntu0.18.04.1 [4,986 kB]\n",
            "Fetched 94.0 MB in 4s (23.4 MB/s)\n",
            "Selecting previously unselected package chromium-codecs-ffmpeg-extra.\n",
            "(Reading database ... 155225 files and directories currently installed.)\n",
            "Preparing to unpack .../chromium-codecs-ffmpeg-extra_95.0.4638.69-0ubuntu0.18.04.1_amd64.deb ...\n",
            "Unpacking chromium-codecs-ffmpeg-extra (95.0.4638.69-0ubuntu0.18.04.1) ...\n",
            "Selecting previously unselected package chromium-browser.\n",
            "Preparing to unpack .../chromium-browser_95.0.4638.69-0ubuntu0.18.04.1_amd64.deb ...\n",
            "Unpacking chromium-browser (95.0.4638.69-0ubuntu0.18.04.1) ...\n",
            "Selecting previously unselected package chromium-browser-l10n.\n",
            "Preparing to unpack .../chromium-browser-l10n_95.0.4638.69-0ubuntu0.18.04.1_all.deb ...\n",
            "Unpacking chromium-browser-l10n (95.0.4638.69-0ubuntu0.18.04.1) ...\n",
            "Selecting previously unselected package chromium-chromedriver.\n",
            "Preparing to unpack .../chromium-chromedriver_95.0.4638.69-0ubuntu0.18.04.1_amd64.deb ...\n",
            "Unpacking chromium-chromedriver (95.0.4638.69-0ubuntu0.18.04.1) ...\n",
            "Setting up chromium-codecs-ffmpeg-extra (95.0.4638.69-0ubuntu0.18.04.1) ...\n",
            "Setting up chromium-browser (95.0.4638.69-0ubuntu0.18.04.1) ...\n",
            "update-alternatives: using /usr/bin/chromium-browser to provide /usr/bin/x-www-browser (x-www-browser) in auto mode\n",
            "update-alternatives: using /usr/bin/chromium-browser to provide /usr/bin/gnome-www-browser (gnome-www-browser) in auto mode\n",
            "Setting up chromium-chromedriver (95.0.4638.69-0ubuntu0.18.04.1) ...\n",
            "Setting up chromium-browser-l10n (95.0.4638.69-0ubuntu0.18.04.1) ...\n",
            "Processing triggers for man-db (2.8.3-2ubuntu0.1) ...\n",
            "Processing triggers for hicolor-icon-theme (0.17-2) ...\n",
            "Processing triggers for mime-support (3.60ubuntu1) ...\n",
            "Processing triggers for libc-bin (2.27-3ubuntu1.3) ...\n",
            "/sbin/ldconfig.real: /usr/local/lib/python3.7/dist-packages/ideep4py/lib/libmkldnn.so.0 is not a symbolic link\n",
            "\n",
            "cp: '/usr/lib/chromium-browser/chromedriver' and '/usr/bin/chromedriver' are the same file\n"
          ]
        },
        {
          "output_type": "stream",
          "name": "stderr",
          "text": [
            "/usr/local/lib/python3.7/dist-packages/ipykernel_launcher.py:12: DeprecationWarning: use options instead of chrome_options\n",
            "  if sys.path[0] == '':\n"
          ]
        }
      ]
    },
    {
      "cell_type": "code",
      "source": [
        "driver.get(\"https://www.coordinador.cl/operacion/graficos/operacion-real/demanda-real/\")"
      ],
      "metadata": {
        "id": "qnQ-6G7Gh8Ao"
      },
      "execution_count": null,
      "outputs": []
    },
    {
      "cell_type": "code",
      "source": [
        "time.sleep(10)"
      ],
      "metadata": {
        "id": "dgHJYp4W-gf5"
      },
      "execution_count": null,
      "outputs": []
    },
    {
      "cell_type": "code",
      "source": [
        "date.today() - timedelta(days = 2)"
      ],
      "metadata": {
        "colab": {
          "base_uri": "https://localhost:8080/"
        },
        "id": "-piAxcqIrkxV",
        "outputId": "90e19240-4d8d-4d74-f819-cad8c15114d2"
      },
      "execution_count": null,
      "outputs": [
        {
          "output_type": "execute_result",
          "data": {
            "text/plain": [
              "datetime.date(2022, 1, 4)"
            ]
          },
          "metadata": {},
          "execution_count": 5
        }
      ]
    },
    {
      "cell_type": "code",
      "source": [
        "fecha_datetime = date.today() - timedelta(days = 2)\n",
        "fecha = fecha_datetime.strftime('%d-%m-%Y')\n",
        "fecha"
      ],
      "metadata": {
        "colab": {
          "base_uri": "https://localhost:8080/",
          "height": 35
        },
        "id": "mzNWk2aujHIe",
        "outputId": "41df07fe-af26-4b4a-f0de-8ae3b13ea271"
      },
      "execution_count": null,
      "outputs": [
        {
          "output_type": "execute_result",
          "data": {
            "application/vnd.google.colaboratory.intrinsic+json": {
              "type": "string"
            },
            "text/plain": [
              "'04-01-2022'"
            ]
          },
          "metadata": {},
          "execution_count": 6
        }
      ]
    },
    {
      "cell_type": "code",
      "source": [
        "#aux fecha \n",
        "#fecha = '31-12-2021'"
      ],
      "metadata": {
        "id": "kmwhNe5QS6E5"
      },
      "execution_count": null,
      "outputs": []
    },
    {
      "cell_type": "code",
      "source": [
        "inicio = driver.find_element_by_xpath('//*[@id=\"datepicker6-9765\"]')"
      ],
      "metadata": {
        "colab": {
          "base_uri": "https://localhost:8080/"
        },
        "id": "2xzSmJzzsjjY",
        "outputId": "f612b15b-1a32-4206-b172-ed9db5d922a1"
      },
      "execution_count": null,
      "outputs": [
        {
          "output_type": "stream",
          "name": "stderr",
          "text": [
            "/usr/local/lib/python3.7/dist-packages/ipykernel_launcher.py:1: DeprecationWarning: find_element_by_* commands are deprecated. Please use find_element() instead\n",
            "  \"\"\"Entry point for launching an IPython kernel.\n"
          ]
        }
      ]
    },
    {
      "cell_type": "code",
      "source": [
        "inicio.send_keys(fecha)"
      ],
      "metadata": {
        "id": "jOpPG1-9vQce"
      },
      "execution_count": null,
      "outputs": []
    },
    {
      "cell_type": "code",
      "source": [
        "termino = driver.find_element_by_xpath('//*[@id=\"datepicker18-9765\"]')"
      ],
      "metadata": {
        "colab": {
          "base_uri": "https://localhost:8080/"
        },
        "id": "3ZUYHTjcvRDC",
        "outputId": "685ce62c-3cae-4c79-b04f-752929ad2c96"
      },
      "execution_count": null,
      "outputs": [
        {
          "output_type": "stream",
          "name": "stderr",
          "text": [
            "/usr/local/lib/python3.7/dist-packages/ipykernel_launcher.py:1: DeprecationWarning: find_element_by_* commands are deprecated. Please use find_element() instead\n",
            "  \"\"\"Entry point for launching an IPython kernel.\n"
          ]
        }
      ]
    },
    {
      "cell_type": "code",
      "source": [
        "termino.send_keys(fecha)"
      ],
      "metadata": {
        "id": "zXQV4N489saR"
      },
      "execution_count": null,
      "outputs": []
    },
    {
      "cell_type": "code",
      "source": [
        "## agregar click descarga\n",
        "boton_descarga = driver.find_element_by_xpath('//*[@id=\"Collapse2\"]/div/article/div[2]/div/div/form/div[1]/div[3]/a')"
      ],
      "metadata": {
        "id": "_Clw9FsG9xcU",
        "colab": {
          "base_uri": "https://localhost:8080/"
        },
        "outputId": "f3812f34-38ae-4033-c634-11c60e9c96b8"
      },
      "execution_count": null,
      "outputs": [
        {
          "output_type": "stream",
          "name": "stderr",
          "text": [
            "/usr/local/lib/python3.7/dist-packages/ipykernel_launcher.py:2: DeprecationWarning: find_element_by_* commands are deprecated. Please use find_element() instead\n",
            "  \n"
          ]
        }
      ]
    },
    {
      "cell_type": "code",
      "source": [
        "boton_descarga.click()\n",
        "time.sleep(10)"
      ],
      "metadata": {
        "id": "Yak1KPErAGuX"
      },
      "execution_count": null,
      "outputs": []
    },
    {
      "cell_type": "code",
      "source": [
        "time.sleep(10)"
      ],
      "metadata": {
        "id": "smwsUfh_AMKW"
      },
      "execution_count": null,
      "outputs": []
    },
    {
      "cell_type": "code",
      "source": [
        "#read demanda descargada y demanda historica\n",
        "demanda_hist = pd.read_csv(\"/content/drive/MyDrive/Demanda/Demanda.csv\")#, sep = ';')\n",
        "demanda = pd.read_csv(\"/content/datos-de-demanda-sistemica-real.tsv\", sep = '\\t', decimal = ',')\n",
        "demanda.sort_values(by=['hora'], inplace=True)\n",
        "demanda['fecha'] = demanda['fecha'].astype('datetime64[ns]')\n",
        "demanda['fecha'] = demanda['fecha'].dt.strftime(\"%d-%m-%Y\")\n",
        "demanda.rename(columns={'fecha': 'Fecha', 'hora': 'Hour', 'demanda': 'Demanda'}, inplace=True)\n",
        "demanda.reset_index(drop = True, inplace = True)\n",
        "#cambiar orden fecha demanda descargada a %d-%m-%Y\n",
        "demanda.head()"
      ],
      "metadata": {
        "colab": {
          "base_uri": "https://localhost:8080/",
          "height": 206
        },
        "id": "cpOTZbSdw_v-",
        "outputId": "95bebff5-a54c-4891-bff6-8fdc37b6782b"
      },
      "execution_count": null,
      "outputs": [
        {
          "output_type": "execute_result",
          "data": {
            "text/html": [
              "\n",
              "  <div id=\"df-db05ff03-bdfc-448e-97eb-0bf4be4196a5\">\n",
              "    <div class=\"colab-df-container\">\n",
              "      <div>\n",
              "<style scoped>\n",
              "    .dataframe tbody tr th:only-of-type {\n",
              "        vertical-align: middle;\n",
              "    }\n",
              "\n",
              "    .dataframe tbody tr th {\n",
              "        vertical-align: top;\n",
              "    }\n",
              "\n",
              "    .dataframe thead th {\n",
              "        text-align: right;\n",
              "    }\n",
              "</style>\n",
              "<table border=\"1\" class=\"dataframe\">\n",
              "  <thead>\n",
              "    <tr style=\"text-align: right;\">\n",
              "      <th></th>\n",
              "      <th>Fecha</th>\n",
              "      <th>Hour</th>\n",
              "      <th>Demanda</th>\n",
              "    </tr>\n",
              "  </thead>\n",
              "  <tbody>\n",
              "    <tr>\n",
              "      <th>0</th>\n",
              "      <td>04-01-2022</td>\n",
              "      <td>1</td>\n",
              "      <td>9474.985091</td>\n",
              "    </tr>\n",
              "    <tr>\n",
              "      <th>1</th>\n",
              "      <td>04-01-2022</td>\n",
              "      <td>2</td>\n",
              "      <td>9049.708674</td>\n",
              "    </tr>\n",
              "    <tr>\n",
              "      <th>2</th>\n",
              "      <td>04-01-2022</td>\n",
              "      <td>3</td>\n",
              "      <td>8718.295720</td>\n",
              "    </tr>\n",
              "    <tr>\n",
              "      <th>3</th>\n",
              "      <td>04-01-2022</td>\n",
              "      <td>4</td>\n",
              "      <td>8548.255681</td>\n",
              "    </tr>\n",
              "    <tr>\n",
              "      <th>4</th>\n",
              "      <td>04-01-2022</td>\n",
              "      <td>5</td>\n",
              "      <td>8511.444545</td>\n",
              "    </tr>\n",
              "  </tbody>\n",
              "</table>\n",
              "</div>\n",
              "      <button class=\"colab-df-convert\" onclick=\"convertToInteractive('df-db05ff03-bdfc-448e-97eb-0bf4be4196a5')\"\n",
              "              title=\"Convert this dataframe to an interactive table.\"\n",
              "              style=\"display:none;\">\n",
              "        \n",
              "  <svg xmlns=\"http://www.w3.org/2000/svg\" height=\"24px\"viewBox=\"0 0 24 24\"\n",
              "       width=\"24px\">\n",
              "    <path d=\"M0 0h24v24H0V0z\" fill=\"none\"/>\n",
              "    <path d=\"M18.56 5.44l.94 2.06.94-2.06 2.06-.94-2.06-.94-.94-2.06-.94 2.06-2.06.94zm-11 1L8.5 8.5l.94-2.06 2.06-.94-2.06-.94L8.5 2.5l-.94 2.06-2.06.94zm10 10l.94 2.06.94-2.06 2.06-.94-2.06-.94-.94-2.06-.94 2.06-2.06.94z\"/><path d=\"M17.41 7.96l-1.37-1.37c-.4-.4-.92-.59-1.43-.59-.52 0-1.04.2-1.43.59L10.3 9.45l-7.72 7.72c-.78.78-.78 2.05 0 2.83L4 21.41c.39.39.9.59 1.41.59.51 0 1.02-.2 1.41-.59l7.78-7.78 2.81-2.81c.8-.78.8-2.07 0-2.86zM5.41 20L4 18.59l7.72-7.72 1.47 1.35L5.41 20z\"/>\n",
              "  </svg>\n",
              "      </button>\n",
              "      \n",
              "  <style>\n",
              "    .colab-df-container {\n",
              "      display:flex;\n",
              "      flex-wrap:wrap;\n",
              "      gap: 12px;\n",
              "    }\n",
              "\n",
              "    .colab-df-convert {\n",
              "      background-color: #E8F0FE;\n",
              "      border: none;\n",
              "      border-radius: 50%;\n",
              "      cursor: pointer;\n",
              "      display: none;\n",
              "      fill: #1967D2;\n",
              "      height: 32px;\n",
              "      padding: 0 0 0 0;\n",
              "      width: 32px;\n",
              "    }\n",
              "\n",
              "    .colab-df-convert:hover {\n",
              "      background-color: #E2EBFA;\n",
              "      box-shadow: 0px 1px 2px rgba(60, 64, 67, 0.3), 0px 1px 3px 1px rgba(60, 64, 67, 0.15);\n",
              "      fill: #174EA6;\n",
              "    }\n",
              "\n",
              "    [theme=dark] .colab-df-convert {\n",
              "      background-color: #3B4455;\n",
              "      fill: #D2E3FC;\n",
              "    }\n",
              "\n",
              "    [theme=dark] .colab-df-convert:hover {\n",
              "      background-color: #434B5C;\n",
              "      box-shadow: 0px 1px 3px 1px rgba(0, 0, 0, 0.15);\n",
              "      filter: drop-shadow(0px 1px 2px rgba(0, 0, 0, 0.3));\n",
              "      fill: #FFFFFF;\n",
              "    }\n",
              "  </style>\n",
              "\n",
              "      <script>\n",
              "        const buttonEl =\n",
              "          document.querySelector('#df-db05ff03-bdfc-448e-97eb-0bf4be4196a5 button.colab-df-convert');\n",
              "        buttonEl.style.display =\n",
              "          google.colab.kernel.accessAllowed ? 'block' : 'none';\n",
              "\n",
              "        async function convertToInteractive(key) {\n",
              "          const element = document.querySelector('#df-db05ff03-bdfc-448e-97eb-0bf4be4196a5');\n",
              "          const dataTable =\n",
              "            await google.colab.kernel.invokeFunction('convertToInteractive',\n",
              "                                                     [key], {});\n",
              "          if (!dataTable) return;\n",
              "\n",
              "          const docLinkHtml = 'Like what you see? Visit the ' +\n",
              "            '<a target=\"_blank\" href=https://colab.research.google.com/notebooks/data_table.ipynb>data table notebook</a>'\n",
              "            + ' to learn more about interactive tables.';\n",
              "          element.innerHTML = '';\n",
              "          dataTable['output_type'] = 'display_data';\n",
              "          await google.colab.output.renderOutput(dataTable, element);\n",
              "          const docLink = document.createElement('div');\n",
              "          docLink.innerHTML = docLinkHtml;\n",
              "          element.appendChild(docLink);\n",
              "        }\n",
              "      </script>\n",
              "    </div>\n",
              "  </div>\n",
              "  "
            ],
            "text/plain": [
              "        Fecha  Hour      Demanda\n",
              "0  04-01-2022     1  9474.985091\n",
              "1  04-01-2022     2  9049.708674\n",
              "2  04-01-2022     3  8718.295720\n",
              "3  04-01-2022     4  8548.255681\n",
              "4  04-01-2022     5  8511.444545"
            ]
          },
          "metadata": {},
          "execution_count": 15
        }
      ]
    },
    {
      "cell_type": "code",
      "source": [
        "demanda_hist.tail()"
      ],
      "metadata": {
        "id": "M6dQ6bgdJJMy",
        "colab": {
          "base_uri": "https://localhost:8080/",
          "height": 206
        },
        "outputId": "42224e0d-a28d-4c19-f65a-529fbe4affbd"
      },
      "execution_count": null,
      "outputs": [
        {
          "output_type": "execute_result",
          "data": {
            "text/html": [
              "\n",
              "  <div id=\"df-f6deb972-9365-4664-9198-e1aafbf7331d\">\n",
              "    <div class=\"colab-df-container\">\n",
              "      <div>\n",
              "<style scoped>\n",
              "    .dataframe tbody tr th:only-of-type {\n",
              "        vertical-align: middle;\n",
              "    }\n",
              "\n",
              "    .dataframe tbody tr th {\n",
              "        vertical-align: top;\n",
              "    }\n",
              "\n",
              "    .dataframe thead th {\n",
              "        text-align: right;\n",
              "    }\n",
              "</style>\n",
              "<table border=\"1\" class=\"dataframe\">\n",
              "  <thead>\n",
              "    <tr style=\"text-align: right;\">\n",
              "      <th></th>\n",
              "      <th>Fecha</th>\n",
              "      <th>Hour</th>\n",
              "      <th>Demanda</th>\n",
              "    </tr>\n",
              "  </thead>\n",
              "  <tbody>\n",
              "    <tr>\n",
              "      <th>35131</th>\n",
              "      <td>03-01-2022</td>\n",
              "      <td>20</td>\n",
              "      <td>10250.181072</td>\n",
              "    </tr>\n",
              "    <tr>\n",
              "      <th>35132</th>\n",
              "      <td>03-01-2022</td>\n",
              "      <td>21</td>\n",
              "      <td>10193.697477</td>\n",
              "    </tr>\n",
              "    <tr>\n",
              "      <th>35133</th>\n",
              "      <td>03-01-2022</td>\n",
              "      <td>22</td>\n",
              "      <td>10498.382535</td>\n",
              "    </tr>\n",
              "    <tr>\n",
              "      <th>35134</th>\n",
              "      <td>03-01-2022</td>\n",
              "      <td>23</td>\n",
              "      <td>10307.695475</td>\n",
              "    </tr>\n",
              "    <tr>\n",
              "      <th>35135</th>\n",
              "      <td>03-01-2022</td>\n",
              "      <td>24</td>\n",
              "      <td>9963.126462</td>\n",
              "    </tr>\n",
              "  </tbody>\n",
              "</table>\n",
              "</div>\n",
              "      <button class=\"colab-df-convert\" onclick=\"convertToInteractive('df-f6deb972-9365-4664-9198-e1aafbf7331d')\"\n",
              "              title=\"Convert this dataframe to an interactive table.\"\n",
              "              style=\"display:none;\">\n",
              "        \n",
              "  <svg xmlns=\"http://www.w3.org/2000/svg\" height=\"24px\"viewBox=\"0 0 24 24\"\n",
              "       width=\"24px\">\n",
              "    <path d=\"M0 0h24v24H0V0z\" fill=\"none\"/>\n",
              "    <path d=\"M18.56 5.44l.94 2.06.94-2.06 2.06-.94-2.06-.94-.94-2.06-.94 2.06-2.06.94zm-11 1L8.5 8.5l.94-2.06 2.06-.94-2.06-.94L8.5 2.5l-.94 2.06-2.06.94zm10 10l.94 2.06.94-2.06 2.06-.94-2.06-.94-.94-2.06-.94 2.06-2.06.94z\"/><path d=\"M17.41 7.96l-1.37-1.37c-.4-.4-.92-.59-1.43-.59-.52 0-1.04.2-1.43.59L10.3 9.45l-7.72 7.72c-.78.78-.78 2.05 0 2.83L4 21.41c.39.39.9.59 1.41.59.51 0 1.02-.2 1.41-.59l7.78-7.78 2.81-2.81c.8-.78.8-2.07 0-2.86zM5.41 20L4 18.59l7.72-7.72 1.47 1.35L5.41 20z\"/>\n",
              "  </svg>\n",
              "      </button>\n",
              "      \n",
              "  <style>\n",
              "    .colab-df-container {\n",
              "      display:flex;\n",
              "      flex-wrap:wrap;\n",
              "      gap: 12px;\n",
              "    }\n",
              "\n",
              "    .colab-df-convert {\n",
              "      background-color: #E8F0FE;\n",
              "      border: none;\n",
              "      border-radius: 50%;\n",
              "      cursor: pointer;\n",
              "      display: none;\n",
              "      fill: #1967D2;\n",
              "      height: 32px;\n",
              "      padding: 0 0 0 0;\n",
              "      width: 32px;\n",
              "    }\n",
              "\n",
              "    .colab-df-convert:hover {\n",
              "      background-color: #E2EBFA;\n",
              "      box-shadow: 0px 1px 2px rgba(60, 64, 67, 0.3), 0px 1px 3px 1px rgba(60, 64, 67, 0.15);\n",
              "      fill: #174EA6;\n",
              "    }\n",
              "\n",
              "    [theme=dark] .colab-df-convert {\n",
              "      background-color: #3B4455;\n",
              "      fill: #D2E3FC;\n",
              "    }\n",
              "\n",
              "    [theme=dark] .colab-df-convert:hover {\n",
              "      background-color: #434B5C;\n",
              "      box-shadow: 0px 1px 3px 1px rgba(0, 0, 0, 0.15);\n",
              "      filter: drop-shadow(0px 1px 2px rgba(0, 0, 0, 0.3));\n",
              "      fill: #FFFFFF;\n",
              "    }\n",
              "  </style>\n",
              "\n",
              "      <script>\n",
              "        const buttonEl =\n",
              "          document.querySelector('#df-f6deb972-9365-4664-9198-e1aafbf7331d button.colab-df-convert');\n",
              "        buttonEl.style.display =\n",
              "          google.colab.kernel.accessAllowed ? 'block' : 'none';\n",
              "\n",
              "        async function convertToInteractive(key) {\n",
              "          const element = document.querySelector('#df-f6deb972-9365-4664-9198-e1aafbf7331d');\n",
              "          const dataTable =\n",
              "            await google.colab.kernel.invokeFunction('convertToInteractive',\n",
              "                                                     [key], {});\n",
              "          if (!dataTable) return;\n",
              "\n",
              "          const docLinkHtml = 'Like what you see? Visit the ' +\n",
              "            '<a target=\"_blank\" href=https://colab.research.google.com/notebooks/data_table.ipynb>data table notebook</a>'\n",
              "            + ' to learn more about interactive tables.';\n",
              "          element.innerHTML = '';\n",
              "          dataTable['output_type'] = 'display_data';\n",
              "          await google.colab.output.renderOutput(dataTable, element);\n",
              "          const docLink = document.createElement('div');\n",
              "          docLink.innerHTML = docLinkHtml;\n",
              "          element.appendChild(docLink);\n",
              "        }\n",
              "      </script>\n",
              "    </div>\n",
              "  </div>\n",
              "  "
            ],
            "text/plain": [
              "            Fecha  Hour       Demanda\n",
              "35131  03-01-2022    20  10250.181072\n",
              "35132  03-01-2022    21  10193.697477\n",
              "35133  03-01-2022    22  10498.382535\n",
              "35134  03-01-2022    23  10307.695475\n",
              "35135  03-01-2022    24   9963.126462"
            ]
          },
          "metadata": {},
          "execution_count": 16
        }
      ]
    },
    {
      "cell_type": "code",
      "source": [
        "frames_demanda = [demanda_hist, demanda]\n",
        "result_demanda = pd.concat(frames_demanda, axis = 0)\n",
        "result_demanda.reset_index(drop=True, inplace=True)\n",
        "result_demanda.tail(50)"
      ],
      "metadata": {
        "colab": {
          "base_uri": "https://localhost:8080/",
          "height": 1000
        },
        "id": "VGWL8CWO9gdQ",
        "outputId": "0a187b94-8302-4553-96c0-81138c6ca854"
      },
      "execution_count": null,
      "outputs": [
        {
          "output_type": "execute_result",
          "data": {
            "text/html": [
              "\n",
              "  <div id=\"df-88fc2bf6-79e6-49d3-9a5c-d0548fc53f02\">\n",
              "    <div class=\"colab-df-container\">\n",
              "      <div>\n",
              "<style scoped>\n",
              "    .dataframe tbody tr th:only-of-type {\n",
              "        vertical-align: middle;\n",
              "    }\n",
              "\n",
              "    .dataframe tbody tr th {\n",
              "        vertical-align: top;\n",
              "    }\n",
              "\n",
              "    .dataframe thead th {\n",
              "        text-align: right;\n",
              "    }\n",
              "</style>\n",
              "<table border=\"1\" class=\"dataframe\">\n",
              "  <thead>\n",
              "    <tr style=\"text-align: right;\">\n",
              "      <th></th>\n",
              "      <th>Fecha</th>\n",
              "      <th>Hour</th>\n",
              "      <th>Demanda</th>\n",
              "    </tr>\n",
              "  </thead>\n",
              "  <tbody>\n",
              "    <tr>\n",
              "      <th>35110</th>\n",
              "      <td>02-01-2022</td>\n",
              "      <td>23</td>\n",
              "      <td>9531.486302</td>\n",
              "    </tr>\n",
              "    <tr>\n",
              "      <th>35111</th>\n",
              "      <td>02-01-2022</td>\n",
              "      <td>24</td>\n",
              "      <td>9359.506519</td>\n",
              "    </tr>\n",
              "    <tr>\n",
              "      <th>35112</th>\n",
              "      <td>03-01-2022</td>\n",
              "      <td>1</td>\n",
              "      <td>8885.429316</td>\n",
              "    </tr>\n",
              "    <tr>\n",
              "      <th>35113</th>\n",
              "      <td>03-01-2022</td>\n",
              "      <td>2</td>\n",
              "      <td>8503.720247</td>\n",
              "    </tr>\n",
              "    <tr>\n",
              "      <th>35114</th>\n",
              "      <td>03-01-2022</td>\n",
              "      <td>3</td>\n",
              "      <td>8232.437790</td>\n",
              "    </tr>\n",
              "    <tr>\n",
              "      <th>35115</th>\n",
              "      <td>03-01-2022</td>\n",
              "      <td>4</td>\n",
              "      <td>8050.576917</td>\n",
              "    </tr>\n",
              "    <tr>\n",
              "      <th>35116</th>\n",
              "      <td>03-01-2022</td>\n",
              "      <td>5</td>\n",
              "      <td>8065.491427</td>\n",
              "    </tr>\n",
              "    <tr>\n",
              "      <th>35117</th>\n",
              "      <td>03-01-2022</td>\n",
              "      <td>6</td>\n",
              "      <td>8078.707634</td>\n",
              "    </tr>\n",
              "    <tr>\n",
              "      <th>35118</th>\n",
              "      <td>03-01-2022</td>\n",
              "      <td>7</td>\n",
              "      <td>8273.677650</td>\n",
              "    </tr>\n",
              "    <tr>\n",
              "      <th>35119</th>\n",
              "      <td>03-01-2022</td>\n",
              "      <td>8</td>\n",
              "      <td>8530.460118</td>\n",
              "    </tr>\n",
              "    <tr>\n",
              "      <th>35120</th>\n",
              "      <td>03-01-2022</td>\n",
              "      <td>9</td>\n",
              "      <td>9211.712562</td>\n",
              "    </tr>\n",
              "    <tr>\n",
              "      <th>35121</th>\n",
              "      <td>03-01-2022</td>\n",
              "      <td>10</td>\n",
              "      <td>9722.575062</td>\n",
              "    </tr>\n",
              "    <tr>\n",
              "      <th>35122</th>\n",
              "      <td>03-01-2022</td>\n",
              "      <td>11</td>\n",
              "      <td>10001.157839</td>\n",
              "    </tr>\n",
              "    <tr>\n",
              "      <th>35123</th>\n",
              "      <td>03-01-2022</td>\n",
              "      <td>12</td>\n",
              "      <td>10262.962114</td>\n",
              "    </tr>\n",
              "    <tr>\n",
              "      <th>35124</th>\n",
              "      <td>03-01-2022</td>\n",
              "      <td>13</td>\n",
              "      <td>10424.091284</td>\n",
              "    </tr>\n",
              "    <tr>\n",
              "      <th>35125</th>\n",
              "      <td>03-01-2022</td>\n",
              "      <td>14</td>\n",
              "      <td>10619.268620</td>\n",
              "    </tr>\n",
              "    <tr>\n",
              "      <th>35126</th>\n",
              "      <td>03-01-2022</td>\n",
              "      <td>15</td>\n",
              "      <td>10765.884448</td>\n",
              "    </tr>\n",
              "    <tr>\n",
              "      <th>35127</th>\n",
              "      <td>03-01-2022</td>\n",
              "      <td>16</td>\n",
              "      <td>10849.073029</td>\n",
              "    </tr>\n",
              "    <tr>\n",
              "      <th>35128</th>\n",
              "      <td>03-01-2022</td>\n",
              "      <td>17</td>\n",
              "      <td>10874.157946</td>\n",
              "    </tr>\n",
              "    <tr>\n",
              "      <th>35129</th>\n",
              "      <td>03-01-2022</td>\n",
              "      <td>18</td>\n",
              "      <td>10668.098017</td>\n",
              "    </tr>\n",
              "    <tr>\n",
              "      <th>35130</th>\n",
              "      <td>03-01-2022</td>\n",
              "      <td>19</td>\n",
              "      <td>10350.547270</td>\n",
              "    </tr>\n",
              "    <tr>\n",
              "      <th>35131</th>\n",
              "      <td>03-01-2022</td>\n",
              "      <td>20</td>\n",
              "      <td>10250.181072</td>\n",
              "    </tr>\n",
              "    <tr>\n",
              "      <th>35132</th>\n",
              "      <td>03-01-2022</td>\n",
              "      <td>21</td>\n",
              "      <td>10193.697477</td>\n",
              "    </tr>\n",
              "    <tr>\n",
              "      <th>35133</th>\n",
              "      <td>03-01-2022</td>\n",
              "      <td>22</td>\n",
              "      <td>10498.382535</td>\n",
              "    </tr>\n",
              "    <tr>\n",
              "      <th>35134</th>\n",
              "      <td>03-01-2022</td>\n",
              "      <td>23</td>\n",
              "      <td>10307.695475</td>\n",
              "    </tr>\n",
              "    <tr>\n",
              "      <th>35135</th>\n",
              "      <td>03-01-2022</td>\n",
              "      <td>24</td>\n",
              "      <td>9963.126462</td>\n",
              "    </tr>\n",
              "    <tr>\n",
              "      <th>35136</th>\n",
              "      <td>04-01-2022</td>\n",
              "      <td>1</td>\n",
              "      <td>9474.985091</td>\n",
              "    </tr>\n",
              "    <tr>\n",
              "      <th>35137</th>\n",
              "      <td>04-01-2022</td>\n",
              "      <td>2</td>\n",
              "      <td>9049.708674</td>\n",
              "    </tr>\n",
              "    <tr>\n",
              "      <th>35138</th>\n",
              "      <td>04-01-2022</td>\n",
              "      <td>3</td>\n",
              "      <td>8718.295720</td>\n",
              "    </tr>\n",
              "    <tr>\n",
              "      <th>35139</th>\n",
              "      <td>04-01-2022</td>\n",
              "      <td>4</td>\n",
              "      <td>8548.255681</td>\n",
              "    </tr>\n",
              "    <tr>\n",
              "      <th>35140</th>\n",
              "      <td>04-01-2022</td>\n",
              "      <td>5</td>\n",
              "      <td>8511.444545</td>\n",
              "    </tr>\n",
              "    <tr>\n",
              "      <th>35141</th>\n",
              "      <td>04-01-2022</td>\n",
              "      <td>6</td>\n",
              "      <td>8487.459401</td>\n",
              "    </tr>\n",
              "    <tr>\n",
              "      <th>35142</th>\n",
              "      <td>04-01-2022</td>\n",
              "      <td>7</td>\n",
              "      <td>8597.937889</td>\n",
              "    </tr>\n",
              "    <tr>\n",
              "      <th>35143</th>\n",
              "      <td>04-01-2022</td>\n",
              "      <td>8</td>\n",
              "      <td>8833.027204</td>\n",
              "    </tr>\n",
              "    <tr>\n",
              "      <th>35144</th>\n",
              "      <td>04-01-2022</td>\n",
              "      <td>9</td>\n",
              "      <td>9412.352849</td>\n",
              "    </tr>\n",
              "    <tr>\n",
              "      <th>35145</th>\n",
              "      <td>04-01-2022</td>\n",
              "      <td>10</td>\n",
              "      <td>9857.726223</td>\n",
              "    </tr>\n",
              "    <tr>\n",
              "      <th>35146</th>\n",
              "      <td>04-01-2022</td>\n",
              "      <td>11</td>\n",
              "      <td>10136.576038</td>\n",
              "    </tr>\n",
              "    <tr>\n",
              "      <th>35147</th>\n",
              "      <td>04-01-2022</td>\n",
              "      <td>12</td>\n",
              "      <td>10338.586308</td>\n",
              "    </tr>\n",
              "    <tr>\n",
              "      <th>35148</th>\n",
              "      <td>04-01-2022</td>\n",
              "      <td>13</td>\n",
              "      <td>10381.695354</td>\n",
              "    </tr>\n",
              "    <tr>\n",
              "      <th>35149</th>\n",
              "      <td>04-01-2022</td>\n",
              "      <td>14</td>\n",
              "      <td>10453.946280</td>\n",
              "    </tr>\n",
              "    <tr>\n",
              "      <th>35150</th>\n",
              "      <td>04-01-2022</td>\n",
              "      <td>15</td>\n",
              "      <td>10716.861744</td>\n",
              "    </tr>\n",
              "    <tr>\n",
              "      <th>35151</th>\n",
              "      <td>04-01-2022</td>\n",
              "      <td>16</td>\n",
              "      <td>10667.753907</td>\n",
              "    </tr>\n",
              "    <tr>\n",
              "      <th>35152</th>\n",
              "      <td>04-01-2022</td>\n",
              "      <td>17</td>\n",
              "      <td>10623.671031</td>\n",
              "    </tr>\n",
              "    <tr>\n",
              "      <th>35153</th>\n",
              "      <td>04-01-2022</td>\n",
              "      <td>18</td>\n",
              "      <td>10473.619294</td>\n",
              "    </tr>\n",
              "    <tr>\n",
              "      <th>35154</th>\n",
              "      <td>04-01-2022</td>\n",
              "      <td>19</td>\n",
              "      <td>10136.639164</td>\n",
              "    </tr>\n",
              "    <tr>\n",
              "      <th>35155</th>\n",
              "      <td>04-01-2022</td>\n",
              "      <td>20</td>\n",
              "      <td>9994.109266</td>\n",
              "    </tr>\n",
              "    <tr>\n",
              "      <th>35156</th>\n",
              "      <td>04-01-2022</td>\n",
              "      <td>21</td>\n",
              "      <td>10045.014269</td>\n",
              "    </tr>\n",
              "    <tr>\n",
              "      <th>35157</th>\n",
              "      <td>04-01-2022</td>\n",
              "      <td>22</td>\n",
              "      <td>10261.287296</td>\n",
              "    </tr>\n",
              "    <tr>\n",
              "      <th>35158</th>\n",
              "      <td>04-01-2022</td>\n",
              "      <td>23</td>\n",
              "      <td>10225.408076</td>\n",
              "    </tr>\n",
              "    <tr>\n",
              "      <th>35159</th>\n",
              "      <td>04-01-2022</td>\n",
              "      <td>24</td>\n",
              "      <td>9796.292452</td>\n",
              "    </tr>\n",
              "  </tbody>\n",
              "</table>\n",
              "</div>\n",
              "      <button class=\"colab-df-convert\" onclick=\"convertToInteractive('df-88fc2bf6-79e6-49d3-9a5c-d0548fc53f02')\"\n",
              "              title=\"Convert this dataframe to an interactive table.\"\n",
              "              style=\"display:none;\">\n",
              "        \n",
              "  <svg xmlns=\"http://www.w3.org/2000/svg\" height=\"24px\"viewBox=\"0 0 24 24\"\n",
              "       width=\"24px\">\n",
              "    <path d=\"M0 0h24v24H0V0z\" fill=\"none\"/>\n",
              "    <path d=\"M18.56 5.44l.94 2.06.94-2.06 2.06-.94-2.06-.94-.94-2.06-.94 2.06-2.06.94zm-11 1L8.5 8.5l.94-2.06 2.06-.94-2.06-.94L8.5 2.5l-.94 2.06-2.06.94zm10 10l.94 2.06.94-2.06 2.06-.94-2.06-.94-.94-2.06-.94 2.06-2.06.94z\"/><path d=\"M17.41 7.96l-1.37-1.37c-.4-.4-.92-.59-1.43-.59-.52 0-1.04.2-1.43.59L10.3 9.45l-7.72 7.72c-.78.78-.78 2.05 0 2.83L4 21.41c.39.39.9.59 1.41.59.51 0 1.02-.2 1.41-.59l7.78-7.78 2.81-2.81c.8-.78.8-2.07 0-2.86zM5.41 20L4 18.59l7.72-7.72 1.47 1.35L5.41 20z\"/>\n",
              "  </svg>\n",
              "      </button>\n",
              "      \n",
              "  <style>\n",
              "    .colab-df-container {\n",
              "      display:flex;\n",
              "      flex-wrap:wrap;\n",
              "      gap: 12px;\n",
              "    }\n",
              "\n",
              "    .colab-df-convert {\n",
              "      background-color: #E8F0FE;\n",
              "      border: none;\n",
              "      border-radius: 50%;\n",
              "      cursor: pointer;\n",
              "      display: none;\n",
              "      fill: #1967D2;\n",
              "      height: 32px;\n",
              "      padding: 0 0 0 0;\n",
              "      width: 32px;\n",
              "    }\n",
              "\n",
              "    .colab-df-convert:hover {\n",
              "      background-color: #E2EBFA;\n",
              "      box-shadow: 0px 1px 2px rgba(60, 64, 67, 0.3), 0px 1px 3px 1px rgba(60, 64, 67, 0.15);\n",
              "      fill: #174EA6;\n",
              "    }\n",
              "\n",
              "    [theme=dark] .colab-df-convert {\n",
              "      background-color: #3B4455;\n",
              "      fill: #D2E3FC;\n",
              "    }\n",
              "\n",
              "    [theme=dark] .colab-df-convert:hover {\n",
              "      background-color: #434B5C;\n",
              "      box-shadow: 0px 1px 3px 1px rgba(0, 0, 0, 0.15);\n",
              "      filter: drop-shadow(0px 1px 2px rgba(0, 0, 0, 0.3));\n",
              "      fill: #FFFFFF;\n",
              "    }\n",
              "  </style>\n",
              "\n",
              "      <script>\n",
              "        const buttonEl =\n",
              "          document.querySelector('#df-88fc2bf6-79e6-49d3-9a5c-d0548fc53f02 button.colab-df-convert');\n",
              "        buttonEl.style.display =\n",
              "          google.colab.kernel.accessAllowed ? 'block' : 'none';\n",
              "\n",
              "        async function convertToInteractive(key) {\n",
              "          const element = document.querySelector('#df-88fc2bf6-79e6-49d3-9a5c-d0548fc53f02');\n",
              "          const dataTable =\n",
              "            await google.colab.kernel.invokeFunction('convertToInteractive',\n",
              "                                                     [key], {});\n",
              "          if (!dataTable) return;\n",
              "\n",
              "          const docLinkHtml = 'Like what you see? Visit the ' +\n",
              "            '<a target=\"_blank\" href=https://colab.research.google.com/notebooks/data_table.ipynb>data table notebook</a>'\n",
              "            + ' to learn more about interactive tables.';\n",
              "          element.innerHTML = '';\n",
              "          dataTable['output_type'] = 'display_data';\n",
              "          await google.colab.output.renderOutput(dataTable, element);\n",
              "          const docLink = document.createElement('div');\n",
              "          docLink.innerHTML = docLinkHtml;\n",
              "          element.appendChild(docLink);\n",
              "        }\n",
              "      </script>\n",
              "    </div>\n",
              "  </div>\n",
              "  "
            ],
            "text/plain": [
              "            Fecha  Hour       Demanda\n",
              "35110  02-01-2022    23   9531.486302\n",
              "35111  02-01-2022    24   9359.506519\n",
              "35112  03-01-2022     1   8885.429316\n",
              "35113  03-01-2022     2   8503.720247\n",
              "35114  03-01-2022     3   8232.437790\n",
              "35115  03-01-2022     4   8050.576917\n",
              "35116  03-01-2022     5   8065.491427\n",
              "35117  03-01-2022     6   8078.707634\n",
              "35118  03-01-2022     7   8273.677650\n",
              "35119  03-01-2022     8   8530.460118\n",
              "35120  03-01-2022     9   9211.712562\n",
              "35121  03-01-2022    10   9722.575062\n",
              "35122  03-01-2022    11  10001.157839\n",
              "35123  03-01-2022    12  10262.962114\n",
              "35124  03-01-2022    13  10424.091284\n",
              "35125  03-01-2022    14  10619.268620\n",
              "35126  03-01-2022    15  10765.884448\n",
              "35127  03-01-2022    16  10849.073029\n",
              "35128  03-01-2022    17  10874.157946\n",
              "35129  03-01-2022    18  10668.098017\n",
              "35130  03-01-2022    19  10350.547270\n",
              "35131  03-01-2022    20  10250.181072\n",
              "35132  03-01-2022    21  10193.697477\n",
              "35133  03-01-2022    22  10498.382535\n",
              "35134  03-01-2022    23  10307.695475\n",
              "35135  03-01-2022    24   9963.126462\n",
              "35136  04-01-2022     1   9474.985091\n",
              "35137  04-01-2022     2   9049.708674\n",
              "35138  04-01-2022     3   8718.295720\n",
              "35139  04-01-2022     4   8548.255681\n",
              "35140  04-01-2022     5   8511.444545\n",
              "35141  04-01-2022     6   8487.459401\n",
              "35142  04-01-2022     7   8597.937889\n",
              "35143  04-01-2022     8   8833.027204\n",
              "35144  04-01-2022     9   9412.352849\n",
              "35145  04-01-2022    10   9857.726223\n",
              "35146  04-01-2022    11  10136.576038\n",
              "35147  04-01-2022    12  10338.586308\n",
              "35148  04-01-2022    13  10381.695354\n",
              "35149  04-01-2022    14  10453.946280\n",
              "35150  04-01-2022    15  10716.861744\n",
              "35151  04-01-2022    16  10667.753907\n",
              "35152  04-01-2022    17  10623.671031\n",
              "35153  04-01-2022    18  10473.619294\n",
              "35154  04-01-2022    19  10136.639164\n",
              "35155  04-01-2022    20   9994.109266\n",
              "35156  04-01-2022    21  10045.014269\n",
              "35157  04-01-2022    22  10261.287296\n",
              "35158  04-01-2022    23  10225.408076\n",
              "35159  04-01-2022    24   9796.292452"
            ]
          },
          "metadata": {},
          "execution_count": 17
        }
      ]
    },
    {
      "cell_type": "code",
      "source": [
        "result_demanda_export = result_demanda.to_csv(\"/content/drive/MyDrive/Demanda/Demanda.csv\",index=False)"
      ],
      "metadata": {
        "id": "shMsy50SHqAO"
      },
      "execution_count": null,
      "outputs": []
    },
    {
      "cell_type": "markdown",
      "source": [
        "# Webscrape Variables"
      ],
      "metadata": {
        "id": "yyUgZuFUiNnf"
      }
    },
    {
      "cell_type": "code",
      "source": [
        "import os\n",
        "import pandas as pd\n",
        "from functools import reduce\n",
        "import numpy as np\n",
        "import time\n",
        "from datetime import datetime\n",
        "from datetime import date\n",
        "from datetime import timedelta\n",
        "#import datetime as dt\n",
        "import locale\n",
        "locale.setlocale(locale.LC_ALL, '')"
      ],
      "metadata": {
        "id": "XMB9fimxiQ8q"
      },
      "execution_count": null,
      "outputs": []
    },
    {
      "cell_type": "code",
      "source": [
        ""
      ],
      "metadata": {
        "id": "-QgUS9zBikUM"
      },
      "execution_count": null,
      "outputs": []
    },
    {
      "cell_type": "markdown",
      "source": [
        "## Inventarios y precio cobre"
      ],
      "metadata": {
        "id": "stRhnSp4d_30"
      }
    },
    {
      "cell_type": "code",
      "source": [
        "import re\n",
        "import requests\n",
        "r=requests.get('https://boletin.cochilco.cl/')\n",
        "print(len(r.text))"
      ],
      "metadata": {
        "colab": {
          "base_uri": "https://localhost:8080/"
        },
        "id": "ki8o9g59nSEy",
        "outputId": "25baab8a-4a27-4cd3-90b0-ee595199a889"
      },
      "execution_count": null,
      "outputs": [
        {
          "output_type": "stream",
          "name": "stdout",
          "text": [
            "6110\n"
          ]
        }
      ]
    },
    {
      "cell_type": "code",
      "source": [
        "from bs4 import BeautifulSoup\n",
        "soup = BeautifulSoup(r.text)\n",
        "print(soup.title.string)"
      ],
      "metadata": {
        "colab": {
          "base_uri": "https://localhost:8080/"
        },
        "id": "tDgHWSZ8nWSg",
        "outputId": "2f12ff49-fdb7-41b2-91fe-5e70760bbeff"
      },
      "execution_count": null,
      "outputs": [
        {
          "output_type": "stream",
          "name": "stdout",
          "text": [
            "Cochilco - Comisión Chilena del Cobre\n"
          ]
        }
      ]
    },
    {
      "cell_type": "code",
      "source": [
        "rows= soup.find_all('script')\n",
        "print(len(rows))"
      ],
      "metadata": {
        "colab": {
          "base_uri": "https://localhost:8080/"
        },
        "id": "AT76xktEnoJi",
        "outputId": "33469ee0-334d-4fc3-90f6-9cbb6ad5cd90"
      },
      "execution_count": null,
      "outputs": [
        {
          "output_type": "stream",
          "name": "stdout",
          "text": [
            "19\n"
          ]
        }
      ]
    },
    {
      "cell_type": "code",
      "source": [
        "row_cobre = rows[15]\n",
        "row_inv = rows[16]\n"
      ],
      "metadata": {
        "id": "mejyDBXi4O8W"
      },
      "execution_count": null,
      "outputs": []
    },
    {
      "cell_type": "code",
      "source": [
        "row_cobre_str = rows[15].string\n",
        "row_cobre_str"
      ],
      "metadata": {
        "colab": {
          "base_uri": "https://localhost:8080/",
          "height": 53
        },
        "id": "udi5ShyjqBi0",
        "outputId": "999ad6f1-7a3b-41ab-97ed-346bdc24a0a2"
      },
      "execution_count": null,
      "outputs": [
        {
          "output_type": "execute_result",
          "data": {
            "application/vnd.google.colaboratory.intrinsic+json": {
              "type": "string"
            },
            "text/plain": [
              "\"\\r\\n\\t\\t\\t\\t\\tvar variableServidor = '433,86' ;\\r\\n\\t\\t\\t\\t\\tdocument.write(formato_numero(variableServidor,'2',',','.'));\\r\\n\\t\\t\\t\\t \""
            ]
          },
          "metadata": {},
          "execution_count": 6
        }
      ]
    },
    {
      "cell_type": "code",
      "source": [
        "re.findall(r\"[-+]?\\d*\\.\\d+|\\d+\", rows[15].string)"
      ],
      "metadata": {
        "id": "ecF4B6uV5Ez2",
        "colab": {
          "base_uri": "https://localhost:8080/"
        },
        "outputId": "fdc6983e-d938-4e22-a706-921b697e8bbe"
      },
      "execution_count": null,
      "outputs": [
        {
          "output_type": "execute_result",
          "data": {
            "text/plain": [
              "['433', '86', '2']"
            ]
          },
          "metadata": {},
          "execution_count": 7
        }
      ]
    },
    {
      "cell_type": "code",
      "source": [
        "row_cobre_str = rows[16].string\n",
        "row_cobre_str\n"
      ],
      "metadata": {
        "colab": {
          "base_uri": "https://localhost:8080/",
          "height": 53
        },
        "id": "v9FSWBJv4245",
        "outputId": "71b2837a-5479-41cc-c751-681e57b981be"
      },
      "execution_count": null,
      "outputs": [
        {
          "output_type": "execute_result",
          "data": {
            "application/vnd.google.colaboratory.intrinsic+json": {
              "type": "string"
            },
            "text/plain": [
              "\"\\r\\n\\t\\t\\t\\t\\tvar variableServidor = '85950' ;\\r\\n\\t\\t\\t\\t\\tdocument.write(formato_numero(variableServidor,'2',',','.'));\\r\\n\\t\\t\\t\\t\""
            ]
          },
          "metadata": {},
          "execution_count": 8
        }
      ]
    },
    {
      "cell_type": "code",
      "source": [
        "cobre_ints = re.findall(r\"[-+]?\\d*\\.\\d+|\\d+\", rows[15].string)\n",
        "precio_cobre = float(cobre_ints[0]+'.'+ cobre_ints[1])\n",
        "precio_cobre"
      ],
      "metadata": {
        "colab": {
          "base_uri": "https://localhost:8080/"
        },
        "id": "4a074ulW32Y5",
        "outputId": "e4157f36-2d5b-45de-9fb5-49bf8b422256"
      },
      "execution_count": null,
      "outputs": [
        {
          "output_type": "execute_result",
          "data": {
            "text/plain": [
              "433.86"
            ]
          },
          "metadata": {},
          "execution_count": 9
        }
      ]
    },
    {
      "cell_type": "code",
      "source": [
        "stock_ints = re.findall(r\"[-+]?\\d*\\.\\d+|\\d+\", rows[16].string)\n",
        "inventarios = int(stock_ints[0]) \n",
        "inventarios\n"
      ],
      "metadata": {
        "colab": {
          "base_uri": "https://localhost:8080/"
        },
        "id": "9Ox0UzLXr4MZ",
        "outputId": "48385876-15ad-4366-b1c5-c3ee1def4646"
      },
      "execution_count": null,
      "outputs": [
        {
          "output_type": "execute_result",
          "data": {
            "text/plain": [
              "85950"
            ]
          },
          "metadata": {},
          "execution_count": 10
        }
      ]
    },
    {
      "cell_type": "code",
      "source": [
        "# read inventarios y precios cobre historicos\n",
        "hist_stock = pd.read_csv(\"/content/drive/MyDrive/Demanda/Inventarios Cobre.csv\")#, sep=';')\n",
        "hist_precio_cobre = pd.read_csv(\"/content/drive/MyDrive/Demanda/Precio Cobre.csv\")#, sep=';',decimal=',')\n"
      ],
      "metadata": {
        "id": "Qv5I-vJ6q488"
      },
      "execution_count": null,
      "outputs": []
    },
    {
      "cell_type": "code",
      "source": [
        "hist_precio_cobre=hist_precio_cobre[:1459]"
      ],
      "metadata": {
        "id": "cogXbLA3sQqh"
      },
      "execution_count": null,
      "outputs": []
    },
    {
      "cell_type": "code",
      "source": [
        "hist_stock.tail()"
      ],
      "metadata": {
        "colab": {
          "base_uri": "https://localhost:8080/",
          "height": 206
        },
        "id": "5GwwS_cvsu4i",
        "outputId": "757bb133-2654-4e9f-88e5-56bde8ac4bff"
      },
      "execution_count": null,
      "outputs": [
        {
          "output_type": "execute_result",
          "data": {
            "text/html": [
              "\n",
              "  <div id=\"df-b98c6f35-a413-493a-b4b9-710e853f9278\">\n",
              "    <div class=\"colab-df-container\">\n",
              "      <div>\n",
              "<style scoped>\n",
              "    .dataframe tbody tr th:only-of-type {\n",
              "        vertical-align: middle;\n",
              "    }\n",
              "\n",
              "    .dataframe tbody tr th {\n",
              "        vertical-align: top;\n",
              "    }\n",
              "\n",
              "    .dataframe thead th {\n",
              "        text-align: right;\n",
              "    }\n",
              "</style>\n",
              "<table border=\"1\" class=\"dataframe\">\n",
              "  <thead>\n",
              "    <tr style=\"text-align: right;\">\n",
              "      <th></th>\n",
              "      <th>Fecha</th>\n",
              "      <th>Stock Cobre LME (Toneladas Metricas)</th>\n",
              "    </tr>\n",
              "  </thead>\n",
              "  <tbody>\n",
              "    <tr>\n",
              "      <th>1460</th>\n",
              "      <td>01-01-2022</td>\n",
              "      <td>88950</td>\n",
              "    </tr>\n",
              "    <tr>\n",
              "      <th>1461</th>\n",
              "      <td>02-01-2022</td>\n",
              "      <td>88950</td>\n",
              "    </tr>\n",
              "    <tr>\n",
              "      <th>1462</th>\n",
              "      <td>03-01-2022</td>\n",
              "      <td>88950</td>\n",
              "    </tr>\n",
              "    <tr>\n",
              "      <th>1463</th>\n",
              "      <td>04-01-2022</td>\n",
              "      <td>88950</td>\n",
              "    </tr>\n",
              "    <tr>\n",
              "      <th>1464</th>\n",
              "      <td>05-01-2022</td>\n",
              "      <td>86950</td>\n",
              "    </tr>\n",
              "  </tbody>\n",
              "</table>\n",
              "</div>\n",
              "      <button class=\"colab-df-convert\" onclick=\"convertToInteractive('df-b98c6f35-a413-493a-b4b9-710e853f9278')\"\n",
              "              title=\"Convert this dataframe to an interactive table.\"\n",
              "              style=\"display:none;\">\n",
              "        \n",
              "  <svg xmlns=\"http://www.w3.org/2000/svg\" height=\"24px\"viewBox=\"0 0 24 24\"\n",
              "       width=\"24px\">\n",
              "    <path d=\"M0 0h24v24H0V0z\" fill=\"none\"/>\n",
              "    <path d=\"M18.56 5.44l.94 2.06.94-2.06 2.06-.94-2.06-.94-.94-2.06-.94 2.06-2.06.94zm-11 1L8.5 8.5l.94-2.06 2.06-.94-2.06-.94L8.5 2.5l-.94 2.06-2.06.94zm10 10l.94 2.06.94-2.06 2.06-.94-2.06-.94-.94-2.06-.94 2.06-2.06.94z\"/><path d=\"M17.41 7.96l-1.37-1.37c-.4-.4-.92-.59-1.43-.59-.52 0-1.04.2-1.43.59L10.3 9.45l-7.72 7.72c-.78.78-.78 2.05 0 2.83L4 21.41c.39.39.9.59 1.41.59.51 0 1.02-.2 1.41-.59l7.78-7.78 2.81-2.81c.8-.78.8-2.07 0-2.86zM5.41 20L4 18.59l7.72-7.72 1.47 1.35L5.41 20z\"/>\n",
              "  </svg>\n",
              "      </button>\n",
              "      \n",
              "  <style>\n",
              "    .colab-df-container {\n",
              "      display:flex;\n",
              "      flex-wrap:wrap;\n",
              "      gap: 12px;\n",
              "    }\n",
              "\n",
              "    .colab-df-convert {\n",
              "      background-color: #E8F0FE;\n",
              "      border: none;\n",
              "      border-radius: 50%;\n",
              "      cursor: pointer;\n",
              "      display: none;\n",
              "      fill: #1967D2;\n",
              "      height: 32px;\n",
              "      padding: 0 0 0 0;\n",
              "      width: 32px;\n",
              "    }\n",
              "\n",
              "    .colab-df-convert:hover {\n",
              "      background-color: #E2EBFA;\n",
              "      box-shadow: 0px 1px 2px rgba(60, 64, 67, 0.3), 0px 1px 3px 1px rgba(60, 64, 67, 0.15);\n",
              "      fill: #174EA6;\n",
              "    }\n",
              "\n",
              "    [theme=dark] .colab-df-convert {\n",
              "      background-color: #3B4455;\n",
              "      fill: #D2E3FC;\n",
              "    }\n",
              "\n",
              "    [theme=dark] .colab-df-convert:hover {\n",
              "      background-color: #434B5C;\n",
              "      box-shadow: 0px 1px 3px 1px rgba(0, 0, 0, 0.15);\n",
              "      filter: drop-shadow(0px 1px 2px rgba(0, 0, 0, 0.3));\n",
              "      fill: #FFFFFF;\n",
              "    }\n",
              "  </style>\n",
              "\n",
              "      <script>\n",
              "        const buttonEl =\n",
              "          document.querySelector('#df-b98c6f35-a413-493a-b4b9-710e853f9278 button.colab-df-convert');\n",
              "        buttonEl.style.display =\n",
              "          google.colab.kernel.accessAllowed ? 'block' : 'none';\n",
              "\n",
              "        async function convertToInteractive(key) {\n",
              "          const element = document.querySelector('#df-b98c6f35-a413-493a-b4b9-710e853f9278');\n",
              "          const dataTable =\n",
              "            await google.colab.kernel.invokeFunction('convertToInteractive',\n",
              "                                                     [key], {});\n",
              "          if (!dataTable) return;\n",
              "\n",
              "          const docLinkHtml = 'Like what you see? Visit the ' +\n",
              "            '<a target=\"_blank\" href=https://colab.research.google.com/notebooks/data_table.ipynb>data table notebook</a>'\n",
              "            + ' to learn more about interactive tables.';\n",
              "          element.innerHTML = '';\n",
              "          dataTable['output_type'] = 'display_data';\n",
              "          await google.colab.output.renderOutput(dataTable, element);\n",
              "          const docLink = document.createElement('div');\n",
              "          docLink.innerHTML = docLinkHtml;\n",
              "          element.appendChild(docLink);\n",
              "        }\n",
              "      </script>\n",
              "    </div>\n",
              "  </div>\n",
              "  "
            ],
            "text/plain": [
              "           Fecha  Stock Cobre LME (Toneladas Metricas)\n",
              "1460  01-01-2022                                 88950\n",
              "1461  02-01-2022                                 88950\n",
              "1462  03-01-2022                                 88950\n",
              "1463  04-01-2022                                 88950\n",
              "1464  05-01-2022                                 86950"
            ]
          },
          "metadata": {},
          "execution_count": 13
        }
      ]
    },
    {
      "cell_type": "code",
      "source": [
        "hist_precio_cobre.tail()"
      ],
      "metadata": {
        "colab": {
          "base_uri": "https://localhost:8080/",
          "height": 206
        },
        "id": "f2DmpCZ3seTx",
        "outputId": "febf52a0-9edd-4f72-c4e6-f0d6c67a8b39"
      },
      "execution_count": null,
      "outputs": [
        {
          "output_type": "execute_result",
          "data": {
            "text/html": [
              "\n",
              "  <div id=\"df-4fd12a0d-1a3c-4450-b2c5-6674de613080\">\n",
              "    <div class=\"colab-df-container\">\n",
              "      <div>\n",
              "<style scoped>\n",
              "    .dataframe tbody tr th:only-of-type {\n",
              "        vertical-align: middle;\n",
              "    }\n",
              "\n",
              "    .dataframe tbody tr th {\n",
              "        vertical-align: top;\n",
              "    }\n",
              "\n",
              "    .dataframe thead th {\n",
              "        text-align: right;\n",
              "    }\n",
              "</style>\n",
              "<table border=\"1\" class=\"dataframe\">\n",
              "  <thead>\n",
              "    <tr style=\"text-align: right;\">\n",
              "      <th></th>\n",
              "      <th>Fecha</th>\n",
              "      <th>Precio Nominal Cobre Diario (¢/lb)</th>\n",
              "    </tr>\n",
              "  </thead>\n",
              "  <tbody>\n",
              "    <tr>\n",
              "      <th>1454</th>\n",
              "      <td>26-12-2021</td>\n",
              "      <td>434.63</td>\n",
              "    </tr>\n",
              "    <tr>\n",
              "      <th>1455</th>\n",
              "      <td>27-12-2021</td>\n",
              "      <td>434.63</td>\n",
              "    </tr>\n",
              "    <tr>\n",
              "      <th>1456</th>\n",
              "      <td>28-12-2021</td>\n",
              "      <td>434.63</td>\n",
              "    </tr>\n",
              "    <tr>\n",
              "      <th>1457</th>\n",
              "      <td>29-12-2021</td>\n",
              "      <td>437.94</td>\n",
              "    </tr>\n",
              "    <tr>\n",
              "      <th>1458</th>\n",
              "      <td>30-12-2021</td>\n",
              "      <td>440.67</td>\n",
              "    </tr>\n",
              "  </tbody>\n",
              "</table>\n",
              "</div>\n",
              "      <button class=\"colab-df-convert\" onclick=\"convertToInteractive('df-4fd12a0d-1a3c-4450-b2c5-6674de613080')\"\n",
              "              title=\"Convert this dataframe to an interactive table.\"\n",
              "              style=\"display:none;\">\n",
              "        \n",
              "  <svg xmlns=\"http://www.w3.org/2000/svg\" height=\"24px\"viewBox=\"0 0 24 24\"\n",
              "       width=\"24px\">\n",
              "    <path d=\"M0 0h24v24H0V0z\" fill=\"none\"/>\n",
              "    <path d=\"M18.56 5.44l.94 2.06.94-2.06 2.06-.94-2.06-.94-.94-2.06-.94 2.06-2.06.94zm-11 1L8.5 8.5l.94-2.06 2.06-.94-2.06-.94L8.5 2.5l-.94 2.06-2.06.94zm10 10l.94 2.06.94-2.06 2.06-.94-2.06-.94-.94-2.06-.94 2.06-2.06.94z\"/><path d=\"M17.41 7.96l-1.37-1.37c-.4-.4-.92-.59-1.43-.59-.52 0-1.04.2-1.43.59L10.3 9.45l-7.72 7.72c-.78.78-.78 2.05 0 2.83L4 21.41c.39.39.9.59 1.41.59.51 0 1.02-.2 1.41-.59l7.78-7.78 2.81-2.81c.8-.78.8-2.07 0-2.86zM5.41 20L4 18.59l7.72-7.72 1.47 1.35L5.41 20z\"/>\n",
              "  </svg>\n",
              "      </button>\n",
              "      \n",
              "  <style>\n",
              "    .colab-df-container {\n",
              "      display:flex;\n",
              "      flex-wrap:wrap;\n",
              "      gap: 12px;\n",
              "    }\n",
              "\n",
              "    .colab-df-convert {\n",
              "      background-color: #E8F0FE;\n",
              "      border: none;\n",
              "      border-radius: 50%;\n",
              "      cursor: pointer;\n",
              "      display: none;\n",
              "      fill: #1967D2;\n",
              "      height: 32px;\n",
              "      padding: 0 0 0 0;\n",
              "      width: 32px;\n",
              "    }\n",
              "\n",
              "    .colab-df-convert:hover {\n",
              "      background-color: #E2EBFA;\n",
              "      box-shadow: 0px 1px 2px rgba(60, 64, 67, 0.3), 0px 1px 3px 1px rgba(60, 64, 67, 0.15);\n",
              "      fill: #174EA6;\n",
              "    }\n",
              "\n",
              "    [theme=dark] .colab-df-convert {\n",
              "      background-color: #3B4455;\n",
              "      fill: #D2E3FC;\n",
              "    }\n",
              "\n",
              "    [theme=dark] .colab-df-convert:hover {\n",
              "      background-color: #434B5C;\n",
              "      box-shadow: 0px 1px 3px 1px rgba(0, 0, 0, 0.15);\n",
              "      filter: drop-shadow(0px 1px 2px rgba(0, 0, 0, 0.3));\n",
              "      fill: #FFFFFF;\n",
              "    }\n",
              "  </style>\n",
              "\n",
              "      <script>\n",
              "        const buttonEl =\n",
              "          document.querySelector('#df-4fd12a0d-1a3c-4450-b2c5-6674de613080 button.colab-df-convert');\n",
              "        buttonEl.style.display =\n",
              "          google.colab.kernel.accessAllowed ? 'block' : 'none';\n",
              "\n",
              "        async function convertToInteractive(key) {\n",
              "          const element = document.querySelector('#df-4fd12a0d-1a3c-4450-b2c5-6674de613080');\n",
              "          const dataTable =\n",
              "            await google.colab.kernel.invokeFunction('convertToInteractive',\n",
              "                                                     [key], {});\n",
              "          if (!dataTable) return;\n",
              "\n",
              "          const docLinkHtml = 'Like what you see? Visit the ' +\n",
              "            '<a target=\"_blank\" href=https://colab.research.google.com/notebooks/data_table.ipynb>data table notebook</a>'\n",
              "            + ' to learn more about interactive tables.';\n",
              "          element.innerHTML = '';\n",
              "          dataTable['output_type'] = 'display_data';\n",
              "          await google.colab.output.renderOutput(dataTable, element);\n",
              "          const docLink = document.createElement('div');\n",
              "          docLink.innerHTML = docLinkHtml;\n",
              "          element.appendChild(docLink);\n",
              "        }\n",
              "      </script>\n",
              "    </div>\n",
              "  </div>\n",
              "  "
            ],
            "text/plain": [
              "           Fecha   Precio Nominal Cobre Diario (¢/lb)\n",
              "1454  26-12-2021                               434.63\n",
              "1455  27-12-2021                               434.63\n",
              "1456  28-12-2021                               434.63\n",
              "1457  29-12-2021                               437.94\n",
              "1458  30-12-2021                               440.67"
            ]
          },
          "metadata": {},
          "execution_count": 14
        }
      ]
    },
    {
      "cell_type": "markdown",
      "source": [
        "## Dólar Observado"
      ],
      "metadata": {
        "id": "vrWAONq4eEYE"
      }
    },
    {
      "cell_type": "code",
      "source": [
        "r=requests.get('https://si3.bcentral.cl/bdemovil/BDE/IndicadoresDiarios')\n",
        "print(len(r.text))"
      ],
      "metadata": {
        "colab": {
          "base_uri": "https://localhost:8080/"
        },
        "id": "c5EINoANeLs4",
        "outputId": "7bcf0270-025b-4450-dd5e-c627467c31b5"
      },
      "execution_count": null,
      "outputs": [
        {
          "output_type": "stream",
          "name": "stdout",
          "text": [
            "32965\n"
          ]
        }
      ]
    },
    {
      "cell_type": "code",
      "source": [
        "from bs4 import BeautifulSoup\n",
        "soup = BeautifulSoup(r.text)\n"
      ],
      "metadata": {
        "id": "crM_w3Fuevqo"
      },
      "execution_count": null,
      "outputs": []
    },
    {
      "cell_type": "code",
      "source": [
        "rows= soup.find_all('p')\n",
        "print(len(rows))"
      ],
      "metadata": {
        "colab": {
          "base_uri": "https://localhost:8080/"
        },
        "id": "K-CtRoaAe8zs",
        "outputId": "816a8700-4323-4870-e16f-4d97ff8e560d"
      },
      "execution_count": null,
      "outputs": [
        {
          "output_type": "stream",
          "name": "stdout",
          "text": [
            "24\n"
          ]
        }
      ]
    },
    {
      "cell_type": "code",
      "source": [
        "rows[4].string"
      ],
      "metadata": {
        "colab": {
          "base_uri": "https://localhost:8080/",
          "height": 35
        },
        "id": "6ikH8Uhwad6T",
        "outputId": "b0393e6a-d319-4278-8dce-3aea358b2095"
      },
      "execution_count": null,
      "outputs": [
        {
          "output_type": "execute_result",
          "data": {
            "application/vnd.google.colaboratory.intrinsic+json": {
              "type": "string"
            },
            "text/plain": [
              "'841,63'"
            ]
          },
          "metadata": {},
          "execution_count": 18
        }
      ]
    },
    {
      "cell_type": "code",
      "source": [
        "try:\n",
        "  dolar_observado = float(rows[4].string)\n",
        "  print(dolar_observado)\n",
        "\n",
        "except:\n",
        "  dolar_ints = re.findall(r\"[-+]?\\d*\\.\\d+|\\d+\", rows[4].string)\n",
        "  dolar_observado = float(dolar_ints[0]+'.'+ dolar_ints[1])\n",
        "  print(dolar_observado)\n"
      ],
      "metadata": {
        "colab": {
          "base_uri": "https://localhost:8080/"
        },
        "id": "fZkOGD1cqNZ8",
        "outputId": "1d37a5b0-4094-4b57-eab3-b02bf3361f54"
      },
      "execution_count": null,
      "outputs": [
        {
          "output_type": "stream",
          "name": "stdout",
          "text": [
            "841.63\n"
          ]
        }
      ]
    },
    {
      "cell_type": "code",
      "source": [
        "try:\n",
        "  dolar_ints = re.findall(r\"[-+]?\\d*\\.\\d+|\\d+\", rows[4].string)\n",
        "  dolar_observado = float(dolar_ints[0]+'.'+ dolar_ints[1])\n",
        "  print(dolar_observado)\n",
        "\n",
        "except:\n",
        "  dolar_observado = float(rows[4].string)\n",
        "  print(dolar_observado)\n",
        "\n"
      ],
      "metadata": {
        "colab": {
          "base_uri": "https://localhost:8080/"
        },
        "id": "9pCzPFqBp67S",
        "outputId": "b957b505-afcf-469c-a311-8b97197db115"
      },
      "execution_count": null,
      "outputs": [
        {
          "output_type": "stream",
          "name": "stdout",
          "text": [
            "841.63\n"
          ]
        }
      ]
    },
    {
      "cell_type": "code",
      "source": [
        "#read valor dolar hist.\n",
        "hist_dolar = pd.read_csv(\"/content/drive/MyDrive/Demanda/Valor Dolar.csv\")#, sep=';',decimal=',')\n",
        "hist_dolar.tail()"
      ],
      "metadata": {
        "colab": {
          "base_uri": "https://localhost:8080/",
          "height": 206
        },
        "id": "IQ2EbnXcoNEc",
        "outputId": "ad492077-687b-4533-aaf9-e4aecfc82619"
      },
      "execution_count": null,
      "outputs": [
        {
          "output_type": "execute_result",
          "data": {
            "text/html": [
              "\n",
              "  <div id=\"df-ddf12ede-3b17-4ff5-b6a0-e89c1a45c6ea\">\n",
              "    <div class=\"colab-df-container\">\n",
              "      <div>\n",
              "<style scoped>\n",
              "    .dataframe tbody tr th:only-of-type {\n",
              "        vertical-align: middle;\n",
              "    }\n",
              "\n",
              "    .dataframe tbody tr th {\n",
              "        vertical-align: top;\n",
              "    }\n",
              "\n",
              "    .dataframe thead th {\n",
              "        text-align: right;\n",
              "    }\n",
              "</style>\n",
              "<table border=\"1\" class=\"dataframe\">\n",
              "  <thead>\n",
              "    <tr style=\"text-align: right;\">\n",
              "      <th></th>\n",
              "      <th>Fecha</th>\n",
              "      <th>Dólar</th>\n",
              "    </tr>\n",
              "  </thead>\n",
              "  <tbody>\n",
              "    <tr>\n",
              "      <th>1460</th>\n",
              "      <td>01-01-2022</td>\n",
              "      <td>850.25</td>\n",
              "    </tr>\n",
              "    <tr>\n",
              "      <th>1461</th>\n",
              "      <td>02-01-2022</td>\n",
              "      <td>850.25</td>\n",
              "    </tr>\n",
              "    <tr>\n",
              "      <th>1462</th>\n",
              "      <td>03-01-2022</td>\n",
              "      <td>850.25</td>\n",
              "    </tr>\n",
              "    <tr>\n",
              "      <th>1463</th>\n",
              "      <td>04-01-2022</td>\n",
              "      <td>850.25</td>\n",
              "    </tr>\n",
              "    <tr>\n",
              "      <th>1464</th>\n",
              "      <td>05-01-2022</td>\n",
              "      <td>852.03</td>\n",
              "    </tr>\n",
              "  </tbody>\n",
              "</table>\n",
              "</div>\n",
              "      <button class=\"colab-df-convert\" onclick=\"convertToInteractive('df-ddf12ede-3b17-4ff5-b6a0-e89c1a45c6ea')\"\n",
              "              title=\"Convert this dataframe to an interactive table.\"\n",
              "              style=\"display:none;\">\n",
              "        \n",
              "  <svg xmlns=\"http://www.w3.org/2000/svg\" height=\"24px\"viewBox=\"0 0 24 24\"\n",
              "       width=\"24px\">\n",
              "    <path d=\"M0 0h24v24H0V0z\" fill=\"none\"/>\n",
              "    <path d=\"M18.56 5.44l.94 2.06.94-2.06 2.06-.94-2.06-.94-.94-2.06-.94 2.06-2.06.94zm-11 1L8.5 8.5l.94-2.06 2.06-.94-2.06-.94L8.5 2.5l-.94 2.06-2.06.94zm10 10l.94 2.06.94-2.06 2.06-.94-2.06-.94-.94-2.06-.94 2.06-2.06.94z\"/><path d=\"M17.41 7.96l-1.37-1.37c-.4-.4-.92-.59-1.43-.59-.52 0-1.04.2-1.43.59L10.3 9.45l-7.72 7.72c-.78.78-.78 2.05 0 2.83L4 21.41c.39.39.9.59 1.41.59.51 0 1.02-.2 1.41-.59l7.78-7.78 2.81-2.81c.8-.78.8-2.07 0-2.86zM5.41 20L4 18.59l7.72-7.72 1.47 1.35L5.41 20z\"/>\n",
              "  </svg>\n",
              "      </button>\n",
              "      \n",
              "  <style>\n",
              "    .colab-df-container {\n",
              "      display:flex;\n",
              "      flex-wrap:wrap;\n",
              "      gap: 12px;\n",
              "    }\n",
              "\n",
              "    .colab-df-convert {\n",
              "      background-color: #E8F0FE;\n",
              "      border: none;\n",
              "      border-radius: 50%;\n",
              "      cursor: pointer;\n",
              "      display: none;\n",
              "      fill: #1967D2;\n",
              "      height: 32px;\n",
              "      padding: 0 0 0 0;\n",
              "      width: 32px;\n",
              "    }\n",
              "\n",
              "    .colab-df-convert:hover {\n",
              "      background-color: #E2EBFA;\n",
              "      box-shadow: 0px 1px 2px rgba(60, 64, 67, 0.3), 0px 1px 3px 1px rgba(60, 64, 67, 0.15);\n",
              "      fill: #174EA6;\n",
              "    }\n",
              "\n",
              "    [theme=dark] .colab-df-convert {\n",
              "      background-color: #3B4455;\n",
              "      fill: #D2E3FC;\n",
              "    }\n",
              "\n",
              "    [theme=dark] .colab-df-convert:hover {\n",
              "      background-color: #434B5C;\n",
              "      box-shadow: 0px 1px 3px 1px rgba(0, 0, 0, 0.15);\n",
              "      filter: drop-shadow(0px 1px 2px rgba(0, 0, 0, 0.3));\n",
              "      fill: #FFFFFF;\n",
              "    }\n",
              "  </style>\n",
              "\n",
              "      <script>\n",
              "        const buttonEl =\n",
              "          document.querySelector('#df-ddf12ede-3b17-4ff5-b6a0-e89c1a45c6ea button.colab-df-convert');\n",
              "        buttonEl.style.display =\n",
              "          google.colab.kernel.accessAllowed ? 'block' : 'none';\n",
              "\n",
              "        async function convertToInteractive(key) {\n",
              "          const element = document.querySelector('#df-ddf12ede-3b17-4ff5-b6a0-e89c1a45c6ea');\n",
              "          const dataTable =\n",
              "            await google.colab.kernel.invokeFunction('convertToInteractive',\n",
              "                                                     [key], {});\n",
              "          if (!dataTable) return;\n",
              "\n",
              "          const docLinkHtml = 'Like what you see? Visit the ' +\n",
              "            '<a target=\"_blank\" href=https://colab.research.google.com/notebooks/data_table.ipynb>data table notebook</a>'\n",
              "            + ' to learn more about interactive tables.';\n",
              "          element.innerHTML = '';\n",
              "          dataTable['output_type'] = 'display_data';\n",
              "          await google.colab.output.renderOutput(dataTable, element);\n",
              "          const docLink = document.createElement('div');\n",
              "          docLink.innerHTML = docLinkHtml;\n",
              "          element.appendChild(docLink);\n",
              "        }\n",
              "      </script>\n",
              "    </div>\n",
              "  </div>\n",
              "  "
            ],
            "text/plain": [
              "           Fecha   Dólar\n",
              "1460  01-01-2022  850.25\n",
              "1461  02-01-2022  850.25\n",
              "1462  03-01-2022  850.25\n",
              "1463  04-01-2022  850.25\n",
              "1464  05-01-2022  852.03"
            ]
          },
          "metadata": {},
          "execution_count": 21
        }
      ]
    },
    {
      "cell_type": "markdown",
      "source": [
        "## Append valores hoy a historicos"
      ],
      "metadata": {
        "id": "BaQiZmke8EC5"
      }
    },
    {
      "cell_type": "code",
      "source": [
        "dia_hoy = date.today().weekday()"
      ],
      "metadata": {
        "id": "baY9NOFACSr1"
      },
      "execution_count": null,
      "outputs": []
    },
    {
      "cell_type": "code",
      "source": [
        "# AUX dia_hoy\n",
        "#dia_hoy = 5\n",
        "#dia_hoy"
      ],
      "metadata": {
        "id": "tBjCX8w2Co9O"
      },
      "execution_count": null,
      "outputs": []
    },
    {
      "cell_type": "code",
      "source": [
        "if dia_hoy < 5:\n",
        "  valor_inventarios = inventarios\n",
        "  valor_precio_cobre = precio_cobre\n",
        "  valor_dolar = dolar_observado\n",
        "\n",
        "else:\n",
        "  valor_inventarios = int(hist_stock['Stock Cobre LME (Toneladas Metricas)'].tail(1))\n",
        "  valor_precio_cobre = float(hist_precio_cobre[' Precio Nominal Cobre Diario (¢/lb)'].tail(1))\n",
        "  valor_dolar = float(hist_dolar['Dólar'].tail(1))\n"
      ],
      "metadata": {
        "id": "fEPVI_1z8LZw"
      },
      "execution_count": null,
      "outputs": []
    },
    {
      "cell_type": "code",
      "source": [
        "fecha = date.today().strftime(\"%d-%m-%Y\")\n",
        "fecha"
      ],
      "metadata": {
        "id": "exwKAsPvMlxJ",
        "colab": {
          "base_uri": "https://localhost:8080/",
          "height": 35
        },
        "outputId": "3193b053-33f5-45a6-8c00-08ce8df4a715"
      },
      "execution_count": null,
      "outputs": [
        {
          "output_type": "execute_result",
          "data": {
            "application/vnd.google.colaboratory.intrinsic+json": {
              "type": "string"
            },
            "text/plain": [
              "'06-01-2022'"
            ]
          },
          "metadata": {},
          "execution_count": 25
        }
      ]
    },
    {
      "cell_type": "code",
      "source": [
        "data = {'Fecha': [fecha], 'Stock Cobre LME (Toneladas Metricas)': [valor_inventarios], ' Precio Nominal Cobre Diario (¢/lb)': [valor_precio_cobre], 'Dólar': [valor_dolar]}\n",
        "# Create DataFrame.\n",
        "valores_hoy = pd.DataFrame(data)\n",
        "# Print the output.\n",
        "valores_hoy"
      ],
      "metadata": {
        "colab": {
          "base_uri": "https://localhost:8080/",
          "height": 81
        },
        "id": "Lk26abCcPMFc",
        "outputId": "ce83871f-dc3e-4af0-b818-c96f9c3dc77e"
      },
      "execution_count": null,
      "outputs": [
        {
          "output_type": "execute_result",
          "data": {
            "text/html": [
              "\n",
              "  <div id=\"df-0eb3ba7a-1d47-4a44-b72c-743c76f317b1\">\n",
              "    <div class=\"colab-df-container\">\n",
              "      <div>\n",
              "<style scoped>\n",
              "    .dataframe tbody tr th:only-of-type {\n",
              "        vertical-align: middle;\n",
              "    }\n",
              "\n",
              "    .dataframe tbody tr th {\n",
              "        vertical-align: top;\n",
              "    }\n",
              "\n",
              "    .dataframe thead th {\n",
              "        text-align: right;\n",
              "    }\n",
              "</style>\n",
              "<table border=\"1\" class=\"dataframe\">\n",
              "  <thead>\n",
              "    <tr style=\"text-align: right;\">\n",
              "      <th></th>\n",
              "      <th>Fecha</th>\n",
              "      <th>Stock Cobre LME (Toneladas Metricas)</th>\n",
              "      <th>Precio Nominal Cobre Diario (¢/lb)</th>\n",
              "      <th>Dólar</th>\n",
              "    </tr>\n",
              "  </thead>\n",
              "  <tbody>\n",
              "    <tr>\n",
              "      <th>0</th>\n",
              "      <td>06-01-2022</td>\n",
              "      <td>85950</td>\n",
              "      <td>433.86</td>\n",
              "      <td>841.63</td>\n",
              "    </tr>\n",
              "  </tbody>\n",
              "</table>\n",
              "</div>\n",
              "      <button class=\"colab-df-convert\" onclick=\"convertToInteractive('df-0eb3ba7a-1d47-4a44-b72c-743c76f317b1')\"\n",
              "              title=\"Convert this dataframe to an interactive table.\"\n",
              "              style=\"display:none;\">\n",
              "        \n",
              "  <svg xmlns=\"http://www.w3.org/2000/svg\" height=\"24px\"viewBox=\"0 0 24 24\"\n",
              "       width=\"24px\">\n",
              "    <path d=\"M0 0h24v24H0V0z\" fill=\"none\"/>\n",
              "    <path d=\"M18.56 5.44l.94 2.06.94-2.06 2.06-.94-2.06-.94-.94-2.06-.94 2.06-2.06.94zm-11 1L8.5 8.5l.94-2.06 2.06-.94-2.06-.94L8.5 2.5l-.94 2.06-2.06.94zm10 10l.94 2.06.94-2.06 2.06-.94-2.06-.94-.94-2.06-.94 2.06-2.06.94z\"/><path d=\"M17.41 7.96l-1.37-1.37c-.4-.4-.92-.59-1.43-.59-.52 0-1.04.2-1.43.59L10.3 9.45l-7.72 7.72c-.78.78-.78 2.05 0 2.83L4 21.41c.39.39.9.59 1.41.59.51 0 1.02-.2 1.41-.59l7.78-7.78 2.81-2.81c.8-.78.8-2.07 0-2.86zM5.41 20L4 18.59l7.72-7.72 1.47 1.35L5.41 20z\"/>\n",
              "  </svg>\n",
              "      </button>\n",
              "      \n",
              "  <style>\n",
              "    .colab-df-container {\n",
              "      display:flex;\n",
              "      flex-wrap:wrap;\n",
              "      gap: 12px;\n",
              "    }\n",
              "\n",
              "    .colab-df-convert {\n",
              "      background-color: #E8F0FE;\n",
              "      border: none;\n",
              "      border-radius: 50%;\n",
              "      cursor: pointer;\n",
              "      display: none;\n",
              "      fill: #1967D2;\n",
              "      height: 32px;\n",
              "      padding: 0 0 0 0;\n",
              "      width: 32px;\n",
              "    }\n",
              "\n",
              "    .colab-df-convert:hover {\n",
              "      background-color: #E2EBFA;\n",
              "      box-shadow: 0px 1px 2px rgba(60, 64, 67, 0.3), 0px 1px 3px 1px rgba(60, 64, 67, 0.15);\n",
              "      fill: #174EA6;\n",
              "    }\n",
              "\n",
              "    [theme=dark] .colab-df-convert {\n",
              "      background-color: #3B4455;\n",
              "      fill: #D2E3FC;\n",
              "    }\n",
              "\n",
              "    [theme=dark] .colab-df-convert:hover {\n",
              "      background-color: #434B5C;\n",
              "      box-shadow: 0px 1px 3px 1px rgba(0, 0, 0, 0.15);\n",
              "      filter: drop-shadow(0px 1px 2px rgba(0, 0, 0, 0.3));\n",
              "      fill: #FFFFFF;\n",
              "    }\n",
              "  </style>\n",
              "\n",
              "      <script>\n",
              "        const buttonEl =\n",
              "          document.querySelector('#df-0eb3ba7a-1d47-4a44-b72c-743c76f317b1 button.colab-df-convert');\n",
              "        buttonEl.style.display =\n",
              "          google.colab.kernel.accessAllowed ? 'block' : 'none';\n",
              "\n",
              "        async function convertToInteractive(key) {\n",
              "          const element = document.querySelector('#df-0eb3ba7a-1d47-4a44-b72c-743c76f317b1');\n",
              "          const dataTable =\n",
              "            await google.colab.kernel.invokeFunction('convertToInteractive',\n",
              "                                                     [key], {});\n",
              "          if (!dataTable) return;\n",
              "\n",
              "          const docLinkHtml = 'Like what you see? Visit the ' +\n",
              "            '<a target=\"_blank\" href=https://colab.research.google.com/notebooks/data_table.ipynb>data table notebook</a>'\n",
              "            + ' to learn more about interactive tables.';\n",
              "          element.innerHTML = '';\n",
              "          dataTable['output_type'] = 'display_data';\n",
              "          await google.colab.output.renderOutput(dataTable, element);\n",
              "          const docLink = document.createElement('div');\n",
              "          docLink.innerHTML = docLinkHtml;\n",
              "          element.appendChild(docLink);\n",
              "        }\n",
              "      </script>\n",
              "    </div>\n",
              "  </div>\n",
              "  "
            ],
            "text/plain": [
              "        Fecha  ...   Dólar\n",
              "0  06-01-2022  ...  841.63\n",
              "\n",
              "[1 rows x 4 columns]"
            ]
          },
          "metadata": {},
          "execution_count": 26
        }
      ]
    },
    {
      "cell_type": "code",
      "source": [
        "#concat inventarios\n",
        "frames_inv = [hist_stock,valores_hoy[['Fecha', 'Stock Cobre LME (Toneladas Metricas)']]]\n",
        "result_inv = pd.concat(frames_inv)\n",
        "result_inv = result_inv.reset_index()\n",
        "result_inv.drop(['index'], axis=1, inplace=True)\n",
        "result_inv_update = result_inv.to_csv(\"/content/drive/MyDrive/Demanda/Inventarios Cobre.csv\",index=False)\n",
        "\n",
        "#concat precio cobre\n",
        "frames_cobre = [hist_precio_cobre,valores_hoy[['Fecha', ' Precio Nominal Cobre Diario (¢/lb)']]]\n",
        "result_cobre = pd.concat(frames_cobre)\n",
        "result_cobre = result_cobre.reset_index()\n",
        "result_cobre.drop(['index'], axis=1, inplace=True)\n",
        "result_cobre_update = result_cobre.to_csv(\"/content/drive/MyDrive/Demanda/Precio Cobre.csv\",index=False)\n",
        "\n",
        "#concat dolar\n",
        "frames_dolar = [hist_dolar,valores_hoy[['Fecha', 'Dólar']]]\n",
        "result_dolar = pd.concat(frames_dolar)\n",
        "result_dolar = result_dolar.reset_index()\n",
        "result_dolar.drop(['index'], axis=1, inplace=True)\n",
        "result_dolar_update = result_dolar.to_csv(\"/content/drive/MyDrive/Demanda/Valor Dolar.csv\",index=False)"
      ],
      "metadata": {
        "id": "Ut4o7IwaTBa9"
      },
      "execution_count": null,
      "outputs": []
    },
    {
      "cell_type": "markdown",
      "source": [
        "## Temperatura hist. Santiago\n"
      ],
      "metadata": {
        "id": "G9YgLstmrEZB"
      }
    },
    {
      "cell_type": "code",
      "source": [
        "# metric\n",
        "unidades = 'metric'\n",
        "\n",
        "# key\n",
        "api_key = '9b3998ae9ad6b8d9b99ba8d2cbb9d873'\n",
        "\n",
        "# datos Santiago\n",
        "lat_santiago = '-33.4569' \n",
        "lon_santiago = '-70.6483' "
      ],
      "metadata": {
        "id": "_oK1Y5BPrIJa"
      },
      "execution_count": null,
      "outputs": []
    },
    {
      "cell_type": "code",
      "source": [
        "#start ante ayer\n",
        "start = date.today()-timedelta(days=1)\n",
        "start_strftime = start.strftime('%Y-%m-%d %H:%M:%S')\n",
        "start"
      ],
      "metadata": {
        "colab": {
          "base_uri": "https://localhost:8080/"
        },
        "id": "5X3-S9Nx59Ut",
        "outputId": "1567a194-5cb9-46fa-a6ee-7b369429a933"
      },
      "execution_count": null,
      "outputs": [
        {
          "output_type": "execute_result",
          "data": {
            "text/plain": [
              "datetime.date(2022, 1, 5)"
            ]
          },
          "metadata": {},
          "execution_count": 29
        }
      ]
    },
    {
      "cell_type": "code",
      "source": [
        "#unixtime \n",
        "timezone_dif_chile = 10800\n",
        "unix = int(time.mktime(start.timetuple())) \n",
        "string_unix = str(unix)"
      ],
      "metadata": {
        "id": "u6F3C6fZ6d1E"
      },
      "execution_count": null,
      "outputs": []
    },
    {
      "cell_type": "code",
      "source": [
        "# build url links\n",
        "url_santiago = \"https://api.openweathermap.org/data/2.5/onecall/timemachine?lat=\" + lat_santiago + \"&lon=\" + lon_santiago + \"&dt=\" + string_unix + \"&units=\" + unidades + \"&appid=\" + api_key\n"
      ],
      "metadata": {
        "id": "Sbpy2P3a6oB7"
      },
      "execution_count": null,
      "outputs": []
    },
    {
      "cell_type": "code",
      "source": [
        "# Santiago Data hist. API call\n",
        "import urllib.request, json \n",
        "with urllib.request.urlopen(url_santiago) as url:\n",
        "    data = json.loads(url.read().decode())\n",
        "    print(data)\n",
        "\n",
        "# df santiago \n",
        "df = pd.json_normalize(data['hourly'])\n",
        "df['weather'] = df['weather'].str.get(0)\n",
        "objs = [df, pd.DataFrame(df['weather'].tolist()).iloc[:, :4]]\n",
        "santiago  = pd.concat(objs, axis=1).drop('weather', axis=1)\n"
      ],
      "metadata": {
        "colab": {
          "base_uri": "https://localhost:8080/"
        },
        "id": "MDBVmZKi7Kj3",
        "outputId": "d555738d-138f-4a1f-9ef9-5f613b575439"
      },
      "execution_count": null,
      "outputs": [
        {
          "output_type": "stream",
          "name": "stdout",
          "text": [
            "{'lat': -33.4569, 'lon': -70.6483, 'timezone': 'America/Santiago', 'timezone_offset': -10800, 'current': {'dt': 1641340800, 'sunrise': 1641289120, 'sunset': 1641340565, 'temp': 25.99, 'feels_like': 25.99, 'pressure': 1012, 'humidity': 40, 'dew_point': 11.36, 'uvi': 0, 'clouds': 0, 'visibility': 10000, 'wind_speed': 4.12, 'wind_deg': 230, 'weather': [{'id': 800, 'main': 'Clear', 'description': 'clear sky', 'icon': '01n'}]}, 'hourly': [{'dt': 1641340800, 'temp': 25.99, 'feels_like': 25.99, 'pressure': 1012, 'humidity': 40, 'dew_point': 11.36, 'uvi': 0, 'clouds': 0, 'visibility': 10000, 'wind_speed': 4.12, 'wind_deg': 230, 'weather': [{'id': 800, 'main': 'Clear', 'description': 'clear sky', 'icon': '01n'}]}, {'dt': 1641344400, 'temp': 23.6, 'feels_like': 23.22, 'pressure': 1012, 'humidity': 46, 'dew_point': 11.32, 'uvi': 0, 'clouds': 0, 'visibility': 10000, 'wind_speed': 7.72, 'wind_deg': 200, 'weather': [{'id': 800, 'main': 'Clear', 'description': 'clear sky', 'icon': '01n'}]}, {'dt': 1641348000, 'temp': 23.28, 'feels_like': 22.89, 'pressure': 1013, 'humidity': 47, 'dew_point': 11.35, 'uvi': 0, 'clouds': 0, 'visibility': 10000, 'wind_speed': 4.63, 'wind_deg': 180, 'weather': [{'id': 800, 'main': 'Clear', 'description': 'clear sky', 'icon': '01n'}]}, {'dt': 1641351600, 'temp': 22.53, 'feels_like': 22.07, 'pressure': 1013, 'humidity': 47, 'dew_point': 10.67, 'uvi': 0, 'clouds': 0, 'visibility': 10000, 'wind_speed': 4.12, 'wind_deg': 150, 'weather': [{'id': 800, 'main': 'Clear', 'description': 'clear sky', 'icon': '01n'}]}, {'dt': 1641355200, 'temp': 21.69, 'feels_like': 21.19, 'pressure': 1013, 'humidity': 49, 'dew_point': 10.52, 'uvi': 0, 'clouds': 0, 'visibility': 10000, 'wind_speed': 4.63, 'wind_deg': 140, 'weather': [{'id': 800, 'main': 'Clear', 'description': 'clear sky', 'icon': '01n'}]}, {'dt': 1641358800, 'temp': 21.69, 'feels_like': 21.19, 'pressure': 1013, 'humidity': 49, 'dew_point': 10.52, 'uvi': 0, 'clouds': 0, 'visibility': 10000, 'wind_speed': 3.6, 'wind_deg': 140, 'weather': [{'id': 800, 'main': 'Clear', 'description': 'clear sky', 'icon': '01n'}]}, {'dt': 1641362400, 'temp': 20.96, 'feels_like': 20.47, 'pressure': 1013, 'humidity': 52, 'dew_point': 10.74, 'uvi': 0, 'clouds': 0, 'visibility': 10000, 'wind_speed': 3.6, 'wind_deg': 160, 'weather': [{'id': 800, 'main': 'Clear', 'description': 'clear sky', 'icon': '01n'}]}, {'dt': 1641366000, 'temp': 20.54, 'feels_like': 20.06, 'pressure': 1013, 'humidity': 54, 'dew_point': 10.92, 'uvi': 0, 'clouds': 0, 'visibility': 10000, 'wind_speed': 3.6, 'wind_deg': 150, 'weather': [{'id': 800, 'main': 'Clear', 'description': 'clear sky', 'icon': '01n'}]}, {'dt': 1641369600, 'temp': 19.79, 'feels_like': 19.29, 'pressure': 1012, 'humidity': 56, 'dew_point': 10.77, 'uvi': 0, 'clouds': 0, 'visibility': 10000, 'wind_speed': 2.06, 'wind_deg': 140, 'weather': [{'id': 800, 'main': 'Clear', 'description': 'clear sky', 'icon': '01n'}]}, {'dt': 1641373200, 'temp': 19.79, 'feels_like': 19.31, 'pressure': 1012, 'humidity': 57, 'dew_point': 11.04, 'uvi': 0, 'clouds': 0, 'visibility': 10000, 'wind_speed': 2.57, 'wind_deg': 160, 'weather': [{'id': 800, 'main': 'Clear', 'description': 'clear sky', 'icon': '01n'}]}, {'dt': 1641376800, 'temp': 19.05, 'feels_like': 18.53, 'pressure': 1013, 'humidity': 58, 'dew_point': 10.61, 'uvi': 0, 'clouds': 0, 'visibility': 10000, 'wind_speed': 2.57, 'wind_deg': 140, 'wind_gust': 8.23, 'weather': [{'id': 800, 'main': 'Clear', 'description': 'clear sky', 'icon': '01d'}]}, {'dt': 1641380400, 'temp': 19, 'feels_like': 18.57, 'pressure': 1014, 'humidity': 62, 'dew_point': 11.56, 'uvi': 0.67, 'clouds': 0, 'visibility': 10000, 'wind_speed': 0, 'wind_deg': 0, 'weather': [{'id': 800, 'main': 'Clear', 'description': 'clear sky', 'icon': '01d'}]}, {'dt': 1641384000, 'temp': 19.92, 'feels_like': 19.51, 'pressure': 1014, 'humidity': 59, 'dew_point': 11.68, 'uvi': 2.28, 'clouds': 0, 'visibility': 10000, 'wind_speed': 0, 'wind_deg': 0, 'weather': [{'id': 800, 'main': 'Clear', 'description': 'clear sky', 'icon': '01d'}]}, {'dt': 1641387600, 'temp': 22.44, 'feels_like': 21.97, 'pressure': 1014, 'humidity': 47, 'dew_point': 10.58, 'uvi': 5.14, 'clouds': 0, 'visibility': 10000, 'wind_speed': 3.6, 'wind_deg': 170, 'weather': [{'id': 800, 'main': 'Clear', 'description': 'clear sky', 'icon': '01d'}]}, {'dt': 1641391200, 'temp': 23.63, 'feels_like': 23.22, 'pressure': 1014, 'humidity': 45, 'dew_point': 11.01, 'uvi': 8.77, 'clouds': 0, 'visibility': 10000, 'wind_speed': 2.06, 'wind_deg': 0, 'weather': [{'id': 800, 'main': 'Clear', 'description': 'clear sky', 'icon': '01d'}]}, {'dt': 1641394800, 'temp': 25.31, 'feels_like': 24.97, 'pressure': 1014, 'humidity': 41, 'dew_point': 11.12, 'uvi': 12.28, 'clouds': 0, 'visibility': 10000, 'wind_speed': 0, 'wind_deg': 0, 'weather': [{'id': 800, 'main': 'Clear', 'description': 'clear sky', 'icon': '01d'}]}, {'dt': 1641398400, 'temp': 27.51, 'feels_like': 27.14, 'pressure': 1013, 'humidity': 38, 'dew_point': 11.94, 'uvi': 14.52, 'clouds': 0, 'visibility': 10000, 'wind_speed': 2.57, 'wind_deg': 260, 'weather': [{'id': 800, 'main': 'Clear', 'description': 'clear sky', 'icon': '01d'}]}, {'dt': 1641402000, 'temp': 29.21, 'feels_like': 28.25, 'pressure': 1012, 'humidity': 33, 'dew_point': 11.3, 'uvi': 14.99, 'clouds': 0, 'visibility': 10000, 'wind_speed': 2.57, 'wind_deg': 220, 'weather': [{'id': 800, 'main': 'Clear', 'description': 'clear sky', 'icon': '01d'}]}, {'dt': 1641405600, 'temp': 29.8, 'feels_like': 28.71, 'pressure': 1012, 'humidity': 32, 'dew_point': 11.35, 'uvi': 13.49, 'clouds': 0, 'visibility': 10000, 'wind_speed': 2.57, 'wind_deg': 220, 'weather': [{'id': 800, 'main': 'Clear', 'description': 'clear sky', 'icon': '01d'}]}, {'dt': 1641409200, 'temp': 30.66, 'feels_like': 29.31, 'pressure': 1011, 'humidity': 29, 'dew_point': 10.61, 'uvi': 10.38, 'clouds': 0, 'visibility': 10000, 'wind_speed': 6.69, 'wind_deg': 210, 'weather': [{'id': 800, 'main': 'Clear', 'description': 'clear sky', 'icon': '01d'}]}, {'dt': 1641412800, 'temp': 30.92, 'feels_like': 29.65, 'pressure': 1011, 'humidity': 30, 'dew_point': 11.34, 'uvi': 6.72, 'clouds': 0, 'visibility': 10000, 'wind_speed': 3.6, 'wind_deg': 240, 'weather': [{'id': 800, 'main': 'Clear', 'description': 'clear sky', 'icon': '01d'}]}, {'dt': 1641416400, 'temp': 30.3, 'feels_like': 29.12, 'pressure': 1011, 'humidity': 31, 'dew_point': 11.3, 'uvi': 3.46, 'clouds': 0, 'visibility': 10000, 'wind_speed': 5.14, 'wind_deg': 260, 'weather': [{'id': 800, 'main': 'Clear', 'description': 'clear sky', 'icon': '01d'}]}, {'dt': 1641420000, 'temp': 29.02, 'feels_like': 28.15, 'pressure': 1011, 'humidity': 34, 'dew_point': 11.58, 'uvi': 1.3, 'clouds': 0, 'visibility': 10000, 'wind_speed': 4.12, 'wind_deg': 240, 'weather': [{'id': 800, 'main': 'Clear', 'description': 'clear sky', 'icon': '01d'}]}, {'dt': 1641423600, 'temp': 26.84, 'feels_like': 26.66, 'pressure': 1012, 'humidity': 38, 'dew_point': 11.34, 'uvi': 0.28, 'clouds': 0, 'visibility': 10000, 'wind_speed': 3.6, 'wind_deg': 240, 'weather': [{'id': 800, 'main': 'Clear', 'description': 'clear sky', 'icon': '01d'}]}]}\n"
          ]
        }
      ]
    },
    {
      "cell_type": "code",
      "source": [
        "# max y min temp santiago (truncar)\n",
        "max_santiago = int(santiago['temp'].max())\n",
        "min_santiago = int(santiago['feels_like'].min())\n",
        "max_santiago, min_santiago"
      ],
      "metadata": {
        "colab": {
          "base_uri": "https://localhost:8080/"
        },
        "id": "BoTao8jihlJK",
        "outputId": "c2de65aa-08a8-46d3-f3b3-a70da5a7c166"
      },
      "execution_count": null,
      "outputs": [
        {
          "output_type": "execute_result",
          "data": {
            "text/plain": [
              "(30, 18)"
            ]
          },
          "metadata": {},
          "execution_count": 33
        }
      ]
    },
    {
      "cell_type": "code",
      "source": [
        "# read temps hist\n",
        "hist_temps_santiago = pd.read_csv('/content/drive/MyDrive/Demanda/Temperaturas Santiago.csv')#, sep=';')\n",
        "hist_temps_santiago"
      ],
      "metadata": {
        "id": "gEYgz9DD-7Gp",
        "colab": {
          "base_uri": "https://localhost:8080/",
          "height": 424
        },
        "outputId": "4081d678-3226-4b0b-a3e7-c2b3a3c7c595"
      },
      "execution_count": null,
      "outputs": [
        {
          "output_type": "execute_result",
          "data": {
            "text/html": [
              "\n",
              "  <div id=\"df-d44978cc-0f74-4e88-b530-9d8767a4397e\">\n",
              "    <div class=\"colab-df-container\">\n",
              "      <div>\n",
              "<style scoped>\n",
              "    .dataframe tbody tr th:only-of-type {\n",
              "        vertical-align: middle;\n",
              "    }\n",
              "\n",
              "    .dataframe tbody tr th {\n",
              "        vertical-align: top;\n",
              "    }\n",
              "\n",
              "    .dataframe thead th {\n",
              "        text-align: right;\n",
              "    }\n",
              "</style>\n",
              "<table border=\"1\" class=\"dataframe\">\n",
              "  <thead>\n",
              "    <tr style=\"text-align: right;\">\n",
              "      <th></th>\n",
              "      <th>Fecha</th>\n",
              "      <th>temp_max</th>\n",
              "      <th>temp_min</th>\n",
              "    </tr>\n",
              "  </thead>\n",
              "  <tbody>\n",
              "    <tr>\n",
              "      <th>0</th>\n",
              "      <td>02-01-2018</td>\n",
              "      <td>30</td>\n",
              "      <td>15</td>\n",
              "    </tr>\n",
              "    <tr>\n",
              "      <th>1</th>\n",
              "      <td>03-01-2018</td>\n",
              "      <td>31</td>\n",
              "      <td>15</td>\n",
              "    </tr>\n",
              "    <tr>\n",
              "      <th>2</th>\n",
              "      <td>04-01-2018</td>\n",
              "      <td>31</td>\n",
              "      <td>16</td>\n",
              "    </tr>\n",
              "    <tr>\n",
              "      <th>3</th>\n",
              "      <td>05-01-2018</td>\n",
              "      <td>29</td>\n",
              "      <td>17</td>\n",
              "    </tr>\n",
              "    <tr>\n",
              "      <th>4</th>\n",
              "      <td>06-01-2018</td>\n",
              "      <td>33</td>\n",
              "      <td>15</td>\n",
              "    </tr>\n",
              "    <tr>\n",
              "      <th>...</th>\n",
              "      <td>...</td>\n",
              "      <td>...</td>\n",
              "      <td>...</td>\n",
              "    </tr>\n",
              "    <tr>\n",
              "      <th>1459</th>\n",
              "      <td>31-12-2021</td>\n",
              "      <td>29</td>\n",
              "      <td>16</td>\n",
              "    </tr>\n",
              "    <tr>\n",
              "      <th>1460</th>\n",
              "      <td>01-01-2022</td>\n",
              "      <td>28</td>\n",
              "      <td>14</td>\n",
              "    </tr>\n",
              "    <tr>\n",
              "      <th>1461</th>\n",
              "      <td>02-01-2022</td>\n",
              "      <td>29</td>\n",
              "      <td>14</td>\n",
              "    </tr>\n",
              "    <tr>\n",
              "      <th>1462</th>\n",
              "      <td>03-01-2022</td>\n",
              "      <td>30</td>\n",
              "      <td>15</td>\n",
              "    </tr>\n",
              "    <tr>\n",
              "      <th>1463</th>\n",
              "      <td>04-01-2022</td>\n",
              "      <td>30</td>\n",
              "      <td>17</td>\n",
              "    </tr>\n",
              "  </tbody>\n",
              "</table>\n",
              "<p>1464 rows × 3 columns</p>\n",
              "</div>\n",
              "      <button class=\"colab-df-convert\" onclick=\"convertToInteractive('df-d44978cc-0f74-4e88-b530-9d8767a4397e')\"\n",
              "              title=\"Convert this dataframe to an interactive table.\"\n",
              "              style=\"display:none;\">\n",
              "        \n",
              "  <svg xmlns=\"http://www.w3.org/2000/svg\" height=\"24px\"viewBox=\"0 0 24 24\"\n",
              "       width=\"24px\">\n",
              "    <path d=\"M0 0h24v24H0V0z\" fill=\"none\"/>\n",
              "    <path d=\"M18.56 5.44l.94 2.06.94-2.06 2.06-.94-2.06-.94-.94-2.06-.94 2.06-2.06.94zm-11 1L8.5 8.5l.94-2.06 2.06-.94-2.06-.94L8.5 2.5l-.94 2.06-2.06.94zm10 10l.94 2.06.94-2.06 2.06-.94-2.06-.94-.94-2.06-.94 2.06-2.06.94z\"/><path d=\"M17.41 7.96l-1.37-1.37c-.4-.4-.92-.59-1.43-.59-.52 0-1.04.2-1.43.59L10.3 9.45l-7.72 7.72c-.78.78-.78 2.05 0 2.83L4 21.41c.39.39.9.59 1.41.59.51 0 1.02-.2 1.41-.59l7.78-7.78 2.81-2.81c.8-.78.8-2.07 0-2.86zM5.41 20L4 18.59l7.72-7.72 1.47 1.35L5.41 20z\"/>\n",
              "  </svg>\n",
              "      </button>\n",
              "      \n",
              "  <style>\n",
              "    .colab-df-container {\n",
              "      display:flex;\n",
              "      flex-wrap:wrap;\n",
              "      gap: 12px;\n",
              "    }\n",
              "\n",
              "    .colab-df-convert {\n",
              "      background-color: #E8F0FE;\n",
              "      border: none;\n",
              "      border-radius: 50%;\n",
              "      cursor: pointer;\n",
              "      display: none;\n",
              "      fill: #1967D2;\n",
              "      height: 32px;\n",
              "      padding: 0 0 0 0;\n",
              "      width: 32px;\n",
              "    }\n",
              "\n",
              "    .colab-df-convert:hover {\n",
              "      background-color: #E2EBFA;\n",
              "      box-shadow: 0px 1px 2px rgba(60, 64, 67, 0.3), 0px 1px 3px 1px rgba(60, 64, 67, 0.15);\n",
              "      fill: #174EA6;\n",
              "    }\n",
              "\n",
              "    [theme=dark] .colab-df-convert {\n",
              "      background-color: #3B4455;\n",
              "      fill: #D2E3FC;\n",
              "    }\n",
              "\n",
              "    [theme=dark] .colab-df-convert:hover {\n",
              "      background-color: #434B5C;\n",
              "      box-shadow: 0px 1px 3px 1px rgba(0, 0, 0, 0.15);\n",
              "      filter: drop-shadow(0px 1px 2px rgba(0, 0, 0, 0.3));\n",
              "      fill: #FFFFFF;\n",
              "    }\n",
              "  </style>\n",
              "\n",
              "      <script>\n",
              "        const buttonEl =\n",
              "          document.querySelector('#df-d44978cc-0f74-4e88-b530-9d8767a4397e button.colab-df-convert');\n",
              "        buttonEl.style.display =\n",
              "          google.colab.kernel.accessAllowed ? 'block' : 'none';\n",
              "\n",
              "        async function convertToInteractive(key) {\n",
              "          const element = document.querySelector('#df-d44978cc-0f74-4e88-b530-9d8767a4397e');\n",
              "          const dataTable =\n",
              "            await google.colab.kernel.invokeFunction('convertToInteractive',\n",
              "                                                     [key], {});\n",
              "          if (!dataTable) return;\n",
              "\n",
              "          const docLinkHtml = 'Like what you see? Visit the ' +\n",
              "            '<a target=\"_blank\" href=https://colab.research.google.com/notebooks/data_table.ipynb>data table notebook</a>'\n",
              "            + ' to learn more about interactive tables.';\n",
              "          element.innerHTML = '';\n",
              "          dataTable['output_type'] = 'display_data';\n",
              "          await google.colab.output.renderOutput(dataTable, element);\n",
              "          const docLink = document.createElement('div');\n",
              "          docLink.innerHTML = docLinkHtml;\n",
              "          element.appendChild(docLink);\n",
              "        }\n",
              "      </script>\n",
              "    </div>\n",
              "  </div>\n",
              "  "
            ],
            "text/plain": [
              "           Fecha  temp_max  temp_min\n",
              "0     02-01-2018        30        15\n",
              "1     03-01-2018        31        15\n",
              "2     04-01-2018        31        16\n",
              "3     05-01-2018        29        17\n",
              "4     06-01-2018        33        15\n",
              "...          ...       ...       ...\n",
              "1459  31-12-2021        29        16\n",
              "1460  01-01-2022        28        14\n",
              "1461  02-01-2022        29        14\n",
              "1462  03-01-2022        30        15\n",
              "1463  04-01-2022        30        17\n",
              "\n",
              "[1464 rows x 3 columns]"
            ]
          },
          "metadata": {},
          "execution_count": 34
        }
      ]
    },
    {
      "cell_type": "code",
      "source": [
        "# df temp ayer\n",
        "start.strftime(\"%d-%m-%Y\")\n",
        "data = {'Fecha': [start.strftime(\"%d-%m-%Y\")], 'temp_max': [max_santiago], 'temp_min': [min_santiago]}# agregar valor_dolar\n",
        "# Create DataFrame.\n",
        "temps_hoy = pd.DataFrame(data)\n",
        "# Print the output.\n",
        "temps_hoy\n",
        "\n"
      ],
      "metadata": {
        "id": "WEC38KEAkMoE",
        "colab": {
          "base_uri": "https://localhost:8080/",
          "height": 81
        },
        "outputId": "3d913775-dba1-4335-ce06-1d5554fe1cbe"
      },
      "execution_count": null,
      "outputs": [
        {
          "output_type": "execute_result",
          "data": {
            "text/html": [
              "\n",
              "  <div id=\"df-fec95193-1ffb-47aa-859f-2c18c930caae\">\n",
              "    <div class=\"colab-df-container\">\n",
              "      <div>\n",
              "<style scoped>\n",
              "    .dataframe tbody tr th:only-of-type {\n",
              "        vertical-align: middle;\n",
              "    }\n",
              "\n",
              "    .dataframe tbody tr th {\n",
              "        vertical-align: top;\n",
              "    }\n",
              "\n",
              "    .dataframe thead th {\n",
              "        text-align: right;\n",
              "    }\n",
              "</style>\n",
              "<table border=\"1\" class=\"dataframe\">\n",
              "  <thead>\n",
              "    <tr style=\"text-align: right;\">\n",
              "      <th></th>\n",
              "      <th>Fecha</th>\n",
              "      <th>temp_max</th>\n",
              "      <th>temp_min</th>\n",
              "    </tr>\n",
              "  </thead>\n",
              "  <tbody>\n",
              "    <tr>\n",
              "      <th>0</th>\n",
              "      <td>05-01-2022</td>\n",
              "      <td>30</td>\n",
              "      <td>18</td>\n",
              "    </tr>\n",
              "  </tbody>\n",
              "</table>\n",
              "</div>\n",
              "      <button class=\"colab-df-convert\" onclick=\"convertToInteractive('df-fec95193-1ffb-47aa-859f-2c18c930caae')\"\n",
              "              title=\"Convert this dataframe to an interactive table.\"\n",
              "              style=\"display:none;\">\n",
              "        \n",
              "  <svg xmlns=\"http://www.w3.org/2000/svg\" height=\"24px\"viewBox=\"0 0 24 24\"\n",
              "       width=\"24px\">\n",
              "    <path d=\"M0 0h24v24H0V0z\" fill=\"none\"/>\n",
              "    <path d=\"M18.56 5.44l.94 2.06.94-2.06 2.06-.94-2.06-.94-.94-2.06-.94 2.06-2.06.94zm-11 1L8.5 8.5l.94-2.06 2.06-.94-2.06-.94L8.5 2.5l-.94 2.06-2.06.94zm10 10l.94 2.06.94-2.06 2.06-.94-2.06-.94-.94-2.06-.94 2.06-2.06.94z\"/><path d=\"M17.41 7.96l-1.37-1.37c-.4-.4-.92-.59-1.43-.59-.52 0-1.04.2-1.43.59L10.3 9.45l-7.72 7.72c-.78.78-.78 2.05 0 2.83L4 21.41c.39.39.9.59 1.41.59.51 0 1.02-.2 1.41-.59l7.78-7.78 2.81-2.81c.8-.78.8-2.07 0-2.86zM5.41 20L4 18.59l7.72-7.72 1.47 1.35L5.41 20z\"/>\n",
              "  </svg>\n",
              "      </button>\n",
              "      \n",
              "  <style>\n",
              "    .colab-df-container {\n",
              "      display:flex;\n",
              "      flex-wrap:wrap;\n",
              "      gap: 12px;\n",
              "    }\n",
              "\n",
              "    .colab-df-convert {\n",
              "      background-color: #E8F0FE;\n",
              "      border: none;\n",
              "      border-radius: 50%;\n",
              "      cursor: pointer;\n",
              "      display: none;\n",
              "      fill: #1967D2;\n",
              "      height: 32px;\n",
              "      padding: 0 0 0 0;\n",
              "      width: 32px;\n",
              "    }\n",
              "\n",
              "    .colab-df-convert:hover {\n",
              "      background-color: #E2EBFA;\n",
              "      box-shadow: 0px 1px 2px rgba(60, 64, 67, 0.3), 0px 1px 3px 1px rgba(60, 64, 67, 0.15);\n",
              "      fill: #174EA6;\n",
              "    }\n",
              "\n",
              "    [theme=dark] .colab-df-convert {\n",
              "      background-color: #3B4455;\n",
              "      fill: #D2E3FC;\n",
              "    }\n",
              "\n",
              "    [theme=dark] .colab-df-convert:hover {\n",
              "      background-color: #434B5C;\n",
              "      box-shadow: 0px 1px 3px 1px rgba(0, 0, 0, 0.15);\n",
              "      filter: drop-shadow(0px 1px 2px rgba(0, 0, 0, 0.3));\n",
              "      fill: #FFFFFF;\n",
              "    }\n",
              "  </style>\n",
              "\n",
              "      <script>\n",
              "        const buttonEl =\n",
              "          document.querySelector('#df-fec95193-1ffb-47aa-859f-2c18c930caae button.colab-df-convert');\n",
              "        buttonEl.style.display =\n",
              "          google.colab.kernel.accessAllowed ? 'block' : 'none';\n",
              "\n",
              "        async function convertToInteractive(key) {\n",
              "          const element = document.querySelector('#df-fec95193-1ffb-47aa-859f-2c18c930caae');\n",
              "          const dataTable =\n",
              "            await google.colab.kernel.invokeFunction('convertToInteractive',\n",
              "                                                     [key], {});\n",
              "          if (!dataTable) return;\n",
              "\n",
              "          const docLinkHtml = 'Like what you see? Visit the ' +\n",
              "            '<a target=\"_blank\" href=https://colab.research.google.com/notebooks/data_table.ipynb>data table notebook</a>'\n",
              "            + ' to learn more about interactive tables.';\n",
              "          element.innerHTML = '';\n",
              "          dataTable['output_type'] = 'display_data';\n",
              "          await google.colab.output.renderOutput(dataTable, element);\n",
              "          const docLink = document.createElement('div');\n",
              "          docLink.innerHTML = docLinkHtml;\n",
              "          element.appendChild(docLink);\n",
              "        }\n",
              "      </script>\n",
              "    </div>\n",
              "  </div>\n",
              "  "
            ],
            "text/plain": [
              "        Fecha  temp_max  temp_min\n",
              "0  05-01-2022        30        18"
            ]
          },
          "metadata": {},
          "execution_count": 35
        }
      ]
    },
    {
      "cell_type": "code",
      "source": [
        "#concat temps\n",
        "frames_temp = [hist_temps_santiago, temps_hoy]\n",
        "result_temp = pd.concat(frames_temp)\n",
        "result_temp = result_temp.reset_index()\n",
        "result_temp.drop(['index'], axis=1, inplace=True)\n",
        "result_temp = result_temp.to_csv(\"/content/drive/MyDrive/Demanda/Temperaturas Santiago.csv\",index=False)"
      ],
      "metadata": {
        "id": "TR2QkbncbMzl"
      },
      "execution_count": null,
      "outputs": []
    },
    {
      "cell_type": "code",
      "source": [
        ""
      ],
      "metadata": {
        "id": "2JT79yoYicwK"
      },
      "execution_count": null,
      "outputs": []
    }
  ]
}